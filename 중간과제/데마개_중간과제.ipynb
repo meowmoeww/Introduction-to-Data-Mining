{
  "nbformat": 4,
  "nbformat_minor": 0,
  "metadata": {
    "colab": {
      "provenance": [],
      "collapsed_sections": []
    },
    "kernelspec": {
      "name": "python3",
      "display_name": "Python 3"
    },
    "language_info": {
      "name": "python"
    }
  },
  "cells": [
    {
      "cell_type": "code",
      "execution_count": null,
      "metadata": {
        "colab": {
          "base_uri": "https://localhost:8080/"
        },
        "id": "ZD4PCJrJOLuA",
        "outputId": "cfd1f717-529d-49d3-acfd-5db2352cf2ee"
      },
      "outputs": [
        {
          "output_type": "stream",
          "name": "stdout",
          "text": [
            "Looking in indexes: https://pypi.org/simple, https://us-python.pkg.dev/colab-wheels/public/simple/\n",
            "Requirement already satisfied: holidays in /usr/local/lib/python3.7/dist-packages (0.10.5.2)\n",
            "Requirement already satisfied: hijri-converter in /usr/local/lib/python3.7/dist-packages (from holidays) (2.2.4)\n",
            "Requirement already satisfied: convertdate>=2.3.0 in /usr/local/lib/python3.7/dist-packages (from holidays) (2.4.0)\n",
            "Requirement already satisfied: python-dateutil in /usr/local/lib/python3.7/dist-packages (from holidays) (2.8.2)\n",
            "Requirement already satisfied: six in /usr/local/lib/python3.7/dist-packages (from holidays) (1.15.0)\n",
            "Requirement already satisfied: korean-lunar-calendar in /usr/local/lib/python3.7/dist-packages (from holidays) (0.2.1)\n",
            "Requirement already satisfied: pymeeus<=1,>=0.3.13 in /usr/local/lib/python3.7/dist-packages (from convertdate>=2.3.0->holidays) (0.5.11)\n"
          ]
        }
      ],
      "source": [
        "!pip install holidays"
      ]
    },
    {
      "cell_type": "code",
      "source": [
        "from sklearn.model_selection import train_test_split\n",
        "from sklearn.metrics import f1_score\n",
        "from sklearn.linear_model import LinearRegression\n",
        "from sklearn.tree import DecisionTreeClassifier\n",
        "from sklearn.preprocessing import LabelEncoder, OneHotEncoder\n",
        "from sklearn.linear_model import LogisticRegression\n",
        "from sklearn.ensemble import RandomForestClassifier"
      ],
      "metadata": {
        "id": "VRXaGk1eOP0_"
      },
      "execution_count": null,
      "outputs": []
    },
    {
      "cell_type": "code",
      "source": [
        "import pandas as pd\n",
        "import numpy as np\n",
        "import datetime\n",
        "import holidays\n",
        "import seaborn as sns\n",
        "from numpy import nan\n",
        "from sklearn.model_selection import GridSearchCV"
      ],
      "metadata": {
        "id": "anMSOi6KOTCt"
      },
      "execution_count": null,
      "outputs": []
    },
    {
      "cell_type": "markdown",
      "source": [
        "# **Project 1 : Basketball 2015**"
      ],
      "metadata": {
        "id": "LGyXgtEjOUDl"
      }
    },
    {
      "cell_type": "markdown",
      "source": [
        "홈팀의 우승을 맞추는 것이므로 prediction concepts은 분류(classification)이다, regression은 사용 x"
      ],
      "metadata": {
        "id": "n4ad6g9bOcII"
      }
    },
    {
      "cell_type": "code",
      "source": [
        "#파일 불러들여오기\n",
        "basketball = pd.read_csv('basketball.csv')\n",
        "#결측값 있는 지 확인\n",
        "basketball.isnull().sum()"
      ],
      "metadata": {
        "colab": {
          "base_uri": "https://localhost:8080/"
        },
        "id": "LYESsQcjOTfI",
        "outputId": "977e9ce6-dad8-442c-8c0d-3e31bb5eab3a"
      },
      "execution_count": null,
      "outputs": [
        {
          "output_type": "execute_result",
          "data": {
            "text/plain": [
              "Date            0\n",
              "Visitor Team    0\n",
              "VisitorPts      0\n",
              "Home Team       0\n",
              "HomePts         0\n",
              "Attend.         0\n",
              "dtype: int64"
            ]
          },
          "metadata": {},
          "execution_count": 5
        }
      ]
    },
    {
      "cell_type": "code",
      "source": [
        "basketball.rename(columns = {'Visitor Team' : 'Visitor_Team','Home Team' :'Home_Team'}, inplace = True)"
      ],
      "metadata": {
        "id": "0xA36RnPOjfV"
      },
      "execution_count": null,
      "outputs": []
    },
    {
      "cell_type": "markdown",
      "source": [
        "## **해당 시즌 우승팀**"
      ],
      "metadata": {
        "id": "QFUQaoAqOujN"
      }
    },
    {
      "cell_type": "code",
      "source": [
        "#점수를 바탕으로 winner를 만들어준다 (해당시즌 우승팀을 알기위해서)\n",
        "basketball['Winner'] = np.where(basketball['VisitorPts']>basketball['HomePts'],basketball['Visitor_Team'], basketball['Home_Team'])\n",
        "\n",
        "basketball['Winner'].value_counts()"
      ],
      "metadata": {
        "colab": {
          "base_uri": "https://localhost:8080/"
        },
        "id": "LGzptHcuOtnm",
        "outputId": "b052ac6c-837b-4a14-d24d-af3dc00aa8b6"
      },
      "execution_count": null,
      "outputs": [
        {
          "output_type": "execute_result",
          "data": {
            "text/plain": [
              "Golden State Warriors     88\n",
              "Cleveland Cavaliers       73\n",
              "San Antonio Spurs         73\n",
              "Toronto Raptors           66\n",
              "Oklahoma City Thunder     66\n",
              "Miami Heat                55\n",
              "Los Angeles Clippers      55\n",
              "Atlanta Hawks             52\n",
              "Charlotte Hornets         51\n",
              "Boston Celtics            50\n",
              "Portland Trail Blazers    49\n",
              "Indiana Pacers            48\n",
              "Detroit Pistons           44\n",
              "Dallas Mavericks          43\n",
              "Chicago Bulls             42\n",
              "Houston Rockets           42\n",
              "Memphis Grizzlies         42\n",
              "Washington Wizards        41\n",
              "Utah Jazz                 40\n",
              "Orlando Magic             35\n",
              "Sacramento Kings          33\n",
              "Milwaukee Bucks           33\n",
              "Denver Nuggets            33\n",
              "New York Knicks           32\n",
              "New Orleans Pelicans      30\n",
              "Minnesota Timberwolves    29\n",
              "Phoenix Suns              23\n",
              "Brooklyn Nets             21\n",
              "Los Angeles Lakers        17\n",
              "Philadelphia 76ers        10\n",
              "Name: Winner, dtype: int64"
            ]
          },
          "metadata": {},
          "execution_count": 7
        }
      ]
    },
    {
      "cell_type": "markdown",
      "source": [
        "해당 시즌 우승팀은 88번의 승리로 'Golden State Warriors'이다 "
      ],
      "metadata": {
        "id": "jkoKFyHLO1I5"
      }
    },
    {
      "cell_type": "markdown",
      "source": [
        "## **데이터 전처리**"
      ],
      "metadata": {
        "id": "mPXoECGGO3IV"
      }
    },
    {
      "cell_type": "code",
      "source": [
        "#점수를 바탕으로 Home팀이 이겼는지 아닌지 나타내는 열\n",
        "basketball['Homewin'] = np.where(basketball['HomePts']>basketball['VisitorPts'], 1, 0) # True:1, False:0\n",
        "\n",
        "basketball['Date'] = pd.to_datetime(basketball['Date']) \n",
        "\n",
        "#날짜에서 년도를 따로 빼주기\n",
        "basketball['Year'] = basketball['Date'].dt.year \n",
        "\n",
        "#날짜에서 달을 따로 빼주기\n",
        "basketball['Month'] = basketball['Date'].dt.month\n",
        "\n",
        "#날짜에서 요일을 따로 빼주기 \n",
        "basketball['Weekday'] = basketball['Date'].dt.weekday # 월:0, 화:1, 수:2, 목:3, 금:4, 토:5, 일:6\n",
        "\n",
        "#holiday 변수 만들어주기\n",
        "holiday_list = basketball['Date']\n",
        "us_holidays = holidays.US()\n",
        "basketball['ds'] = sorted(holiday_list)\n",
        "basketball['Holiday'] = basketball.ds.apply(lambda x: 1 if x in us_holidays else 0) #True:1, False:0\n",
        "\n",
        "basketball.loc[basketball.Weekday > 4, 'Holiday'] = 1 # 토,일은 휴일이니까 "
      ],
      "metadata": {
        "id": "GdCGv30WOyRb"
      },
      "execution_count": null,
      "outputs": []
    },
    {
      "cell_type": "code",
      "source": [
        "basketball.head()"
      ],
      "metadata": {
        "colab": {
          "base_uri": "https://localhost:8080/",
          "height": 206
        },
        "id": "yvf5umsOO5t8",
        "outputId": "4b0691e5-b5a6-4701-acc7-7d1ea9ce1780"
      },
      "execution_count": null,
      "outputs": [
        {
          "output_type": "execute_result",
          "data": {
            "text/plain": [
              "        Date          Visitor_Team  VisitorPts              Home_Team  \\\n",
              "0 2015-10-27   Cleveland Cavaliers          95          Chicago Bulls   \n",
              "1 2015-10-27       Detroit Pistons         106          Atlanta Hawks   \n",
              "2 2015-10-27  New Orleans Pelicans          95  Golden State Warriors   \n",
              "3 2015-10-28    Washington Wizards          88          Orlando Magic   \n",
              "4 2015-10-28    Philadelphia 76ers          95         Boston Celtics   \n",
              "\n",
              "   HomePts  Attend.                 Winner  Homewin  Year  Month  Weekday  \\\n",
              "0       97    21957          Chicago Bulls        1  2015     10        1   \n",
              "1       94    19187        Detroit Pistons        0  2015     10        1   \n",
              "2      111    19596  Golden State Warriors        1  2015     10        1   \n",
              "3       87    18846     Washington Wizards        0  2015     10        2   \n",
              "4      112    18624         Boston Celtics        1  2015     10        2   \n",
              "\n",
              "          ds  Holiday  \n",
              "0 2015-10-27        0  \n",
              "1 2015-10-27        0  \n",
              "2 2015-10-27        0  \n",
              "3 2015-10-28        0  \n",
              "4 2015-10-28        0  "
            ],
            "text/html": [
              "\n",
              "  <div id=\"df-656b3f65-8948-40c9-84ca-afed74180505\">\n",
              "    <div class=\"colab-df-container\">\n",
              "      <div>\n",
              "<style scoped>\n",
              "    .dataframe tbody tr th:only-of-type {\n",
              "        vertical-align: middle;\n",
              "    }\n",
              "\n",
              "    .dataframe tbody tr th {\n",
              "        vertical-align: top;\n",
              "    }\n",
              "\n",
              "    .dataframe thead th {\n",
              "        text-align: right;\n",
              "    }\n",
              "</style>\n",
              "<table border=\"1\" class=\"dataframe\">\n",
              "  <thead>\n",
              "    <tr style=\"text-align: right;\">\n",
              "      <th></th>\n",
              "      <th>Date</th>\n",
              "      <th>Visitor_Team</th>\n",
              "      <th>VisitorPts</th>\n",
              "      <th>Home_Team</th>\n",
              "      <th>HomePts</th>\n",
              "      <th>Attend.</th>\n",
              "      <th>Winner</th>\n",
              "      <th>Homewin</th>\n",
              "      <th>Year</th>\n",
              "      <th>Month</th>\n",
              "      <th>Weekday</th>\n",
              "      <th>ds</th>\n",
              "      <th>Holiday</th>\n",
              "    </tr>\n",
              "  </thead>\n",
              "  <tbody>\n",
              "    <tr>\n",
              "      <th>0</th>\n",
              "      <td>2015-10-27</td>\n",
              "      <td>Cleveland Cavaliers</td>\n",
              "      <td>95</td>\n",
              "      <td>Chicago Bulls</td>\n",
              "      <td>97</td>\n",
              "      <td>21957</td>\n",
              "      <td>Chicago Bulls</td>\n",
              "      <td>1</td>\n",
              "      <td>2015</td>\n",
              "      <td>10</td>\n",
              "      <td>1</td>\n",
              "      <td>2015-10-27</td>\n",
              "      <td>0</td>\n",
              "    </tr>\n",
              "    <tr>\n",
              "      <th>1</th>\n",
              "      <td>2015-10-27</td>\n",
              "      <td>Detroit Pistons</td>\n",
              "      <td>106</td>\n",
              "      <td>Atlanta Hawks</td>\n",
              "      <td>94</td>\n",
              "      <td>19187</td>\n",
              "      <td>Detroit Pistons</td>\n",
              "      <td>0</td>\n",
              "      <td>2015</td>\n",
              "      <td>10</td>\n",
              "      <td>1</td>\n",
              "      <td>2015-10-27</td>\n",
              "      <td>0</td>\n",
              "    </tr>\n",
              "    <tr>\n",
              "      <th>2</th>\n",
              "      <td>2015-10-27</td>\n",
              "      <td>New Orleans Pelicans</td>\n",
              "      <td>95</td>\n",
              "      <td>Golden State Warriors</td>\n",
              "      <td>111</td>\n",
              "      <td>19596</td>\n",
              "      <td>Golden State Warriors</td>\n",
              "      <td>1</td>\n",
              "      <td>2015</td>\n",
              "      <td>10</td>\n",
              "      <td>1</td>\n",
              "      <td>2015-10-27</td>\n",
              "      <td>0</td>\n",
              "    </tr>\n",
              "    <tr>\n",
              "      <th>3</th>\n",
              "      <td>2015-10-28</td>\n",
              "      <td>Washington Wizards</td>\n",
              "      <td>88</td>\n",
              "      <td>Orlando Magic</td>\n",
              "      <td>87</td>\n",
              "      <td>18846</td>\n",
              "      <td>Washington Wizards</td>\n",
              "      <td>0</td>\n",
              "      <td>2015</td>\n",
              "      <td>10</td>\n",
              "      <td>2</td>\n",
              "      <td>2015-10-28</td>\n",
              "      <td>0</td>\n",
              "    </tr>\n",
              "    <tr>\n",
              "      <th>4</th>\n",
              "      <td>2015-10-28</td>\n",
              "      <td>Philadelphia 76ers</td>\n",
              "      <td>95</td>\n",
              "      <td>Boston Celtics</td>\n",
              "      <td>112</td>\n",
              "      <td>18624</td>\n",
              "      <td>Boston Celtics</td>\n",
              "      <td>1</td>\n",
              "      <td>2015</td>\n",
              "      <td>10</td>\n",
              "      <td>2</td>\n",
              "      <td>2015-10-28</td>\n",
              "      <td>0</td>\n",
              "    </tr>\n",
              "  </tbody>\n",
              "</table>\n",
              "</div>\n",
              "      <button class=\"colab-df-convert\" onclick=\"convertToInteractive('df-656b3f65-8948-40c9-84ca-afed74180505')\"\n",
              "              title=\"Convert this dataframe to an interactive table.\"\n",
              "              style=\"display:none;\">\n",
              "        \n",
              "  <svg xmlns=\"http://www.w3.org/2000/svg\" height=\"24px\"viewBox=\"0 0 24 24\"\n",
              "       width=\"24px\">\n",
              "    <path d=\"M0 0h24v24H0V0z\" fill=\"none\"/>\n",
              "    <path d=\"M18.56 5.44l.94 2.06.94-2.06 2.06-.94-2.06-.94-.94-2.06-.94 2.06-2.06.94zm-11 1L8.5 8.5l.94-2.06 2.06-.94-2.06-.94L8.5 2.5l-.94 2.06-2.06.94zm10 10l.94 2.06.94-2.06 2.06-.94-2.06-.94-.94-2.06-.94 2.06-2.06.94z\"/><path d=\"M17.41 7.96l-1.37-1.37c-.4-.4-.92-.59-1.43-.59-.52 0-1.04.2-1.43.59L10.3 9.45l-7.72 7.72c-.78.78-.78 2.05 0 2.83L4 21.41c.39.39.9.59 1.41.59.51 0 1.02-.2 1.41-.59l7.78-7.78 2.81-2.81c.8-.78.8-2.07 0-2.86zM5.41 20L4 18.59l7.72-7.72 1.47 1.35L5.41 20z\"/>\n",
              "  </svg>\n",
              "      </button>\n",
              "      \n",
              "  <style>\n",
              "    .colab-df-container {\n",
              "      display:flex;\n",
              "      flex-wrap:wrap;\n",
              "      gap: 12px;\n",
              "    }\n",
              "\n",
              "    .colab-df-convert {\n",
              "      background-color: #E8F0FE;\n",
              "      border: none;\n",
              "      border-radius: 50%;\n",
              "      cursor: pointer;\n",
              "      display: none;\n",
              "      fill: #1967D2;\n",
              "      height: 32px;\n",
              "      padding: 0 0 0 0;\n",
              "      width: 32px;\n",
              "    }\n",
              "\n",
              "    .colab-df-convert:hover {\n",
              "      background-color: #E2EBFA;\n",
              "      box-shadow: 0px 1px 2px rgba(60, 64, 67, 0.3), 0px 1px 3px 1px rgba(60, 64, 67, 0.15);\n",
              "      fill: #174EA6;\n",
              "    }\n",
              "\n",
              "    [theme=dark] .colab-df-convert {\n",
              "      background-color: #3B4455;\n",
              "      fill: #D2E3FC;\n",
              "    }\n",
              "\n",
              "    [theme=dark] .colab-df-convert:hover {\n",
              "      background-color: #434B5C;\n",
              "      box-shadow: 0px 1px 3px 1px rgba(0, 0, 0, 0.15);\n",
              "      filter: drop-shadow(0px 1px 2px rgba(0, 0, 0, 0.3));\n",
              "      fill: #FFFFFF;\n",
              "    }\n",
              "  </style>\n",
              "\n",
              "      <script>\n",
              "        const buttonEl =\n",
              "          document.querySelector('#df-656b3f65-8948-40c9-84ca-afed74180505 button.colab-df-convert');\n",
              "        buttonEl.style.display =\n",
              "          google.colab.kernel.accessAllowed ? 'block' : 'none';\n",
              "\n",
              "        async function convertToInteractive(key) {\n",
              "          const element = document.querySelector('#df-656b3f65-8948-40c9-84ca-afed74180505');\n",
              "          const dataTable =\n",
              "            await google.colab.kernel.invokeFunction('convertToInteractive',\n",
              "                                                     [key], {});\n",
              "          if (!dataTable) return;\n",
              "\n",
              "          const docLinkHtml = 'Like what you see? Visit the ' +\n",
              "            '<a target=\"_blank\" href=https://colab.research.google.com/notebooks/data_table.ipynb>data table notebook</a>'\n",
              "            + ' to learn more about interactive tables.';\n",
              "          element.innerHTML = '';\n",
              "          dataTable['output_type'] = 'display_data';\n",
              "          await google.colab.output.renderOutput(dataTable, element);\n",
              "          const docLink = document.createElement('div');\n",
              "          docLink.innerHTML = docLinkHtml;\n",
              "          element.appendChild(docLink);\n",
              "        }\n",
              "      </script>\n",
              "    </div>\n",
              "  </div>\n",
              "  "
            ]
          },
          "metadata": {},
          "execution_count": 9
        }
      ]
    },
    {
      "cell_type": "code",
      "source": [
        "#homewin변수를 만들어줬으므로 winner을 삭제, date의 관한 변수들을 따로 만들어 줫으니 date도 삭제, holiday변수를 만들기 위해 만들었던 \n",
        "#ds 변수도 삭제, 각 팀의 점수들은 경기 하기 전 알 수 없으므로 삭제해 basketball_df를 만들어줬다\n",
        "basketball_df = basketball.drop(columns = ['Date', 'VisitorPts','HomePts','ds','Winner'])"
      ],
      "metadata": {
        "id": "A0jHNbe2O720"
      },
      "execution_count": null,
      "outputs": []
    },
    {
      "cell_type": "markdown",
      "source": [
        "## **원핫인코딩**"
      ],
      "metadata": {
        "id": "Rq-1rEwvO_mL"
      }
    },
    {
      "cell_type": "code",
      "source": [
        "enc = OneHotEncoder(sparse=False)\n",
        "# fit_transform은 train에만 사용하고 test에는 학습된 인코더에 fit만 해야한다\n",
        "\n",
        "cats = ['Visitor_Team','Home_Team']\n",
        "out_enc = enc.fit_transform(basketball_df[cats])\n",
        "new_cols = enc.get_feature_names_out(cats).tolist()"
      ],
      "metadata": {
        "id": "VveGVq-MO9zL"
      },
      "execution_count": null,
      "outputs": []
    },
    {
      "cell_type": "code",
      "source": [
        "df_enc = pd.DataFrame(data = out_enc, columns = new_cols)\n",
        "df_enc.index = basketball_df.index\n",
        "\n",
        "basketball_df.drop(cats, axis=1, inplace=True)\n",
        "basketball_df = pd.concat([basketball_df,df_enc],axis=1)"
      ],
      "metadata": {
        "id": "m3623biaPBqk"
      },
      "execution_count": null,
      "outputs": []
    },
    {
      "cell_type": "code",
      "source": [
        "X = basketball_df.drop(columns=['Homewin'])\n",
        "y = basketball[['Homewin']]\n",
        "X_train, X_test, y_train, y_test = train_test_split(X, y, test_size=.33, random_state=42)"
      ],
      "metadata": {
        "id": "JuUZB6ITPC1C"
      },
      "execution_count": null,
      "outputs": []
    },
    {
      "cell_type": "markdown",
      "source": [
        "## **hometeam 우승 가설 세우기 위한 과정**"
      ],
      "metadata": {
        "id": "XQkzBd2BPE1F"
      }
    },
    {
      "cell_type": "code",
      "source": [
        "basketball['Holiday'].value_counts()"
      ],
      "metadata": {
        "colab": {
          "base_uri": "https://localhost:8080/"
        },
        "id": "V0uC0wL2PEO8",
        "outputId": "7d76353f-ec52-4770-bd2d-15e0faa74aed"
      },
      "execution_count": null,
      "outputs": [
        {
          "output_type": "execute_result",
          "data": {
            "text/plain": [
              "0    923\n",
              "1    393\n",
              "Name: Holiday, dtype: int64"
            ]
          },
          "metadata": {},
          "execution_count": 14
        }
      ]
    },
    {
      "cell_type": "code",
      "source": [
        "homewin = basketball['Homewin'] == 1\n",
        "visitorwin = basketball['Homewin'] == 0\n",
        "\n",
        "#홈팀이 우승한 결과만 나타내는 hw_df\n",
        "hw_df = basketball.loc[homewin,:]\n",
        "\n",
        "#비지터팀이 우승한 결과만 나타내는 visitorwin_df\n",
        "visitorwin_df = basketball.loc[visitorwin,:]\n",
        "\n",
        "print(\"hw_df.shape\",hw_df.shape) # 홈팀은 우승 : 782번\n",
        "print(\"vs_df.shape\",visitorwin_df.shape) # 비지터팀은 우승 : 534번"
      ],
      "metadata": {
        "colab": {
          "base_uri": "https://localhost:8080/"
        },
        "id": "DLHv5F7HPIYD",
        "outputId": "12634c3c-1536-4130-8d66-ac1cf6ef0907"
      },
      "execution_count": null,
      "outputs": [
        {
          "output_type": "stream",
          "name": "stdout",
          "text": [
            "hw_df.shape (782, 13)\n",
            "vs_df.shape (534, 13)\n"
          ]
        }
      ]
    },
    {
      "cell_type": "markdown",
      "source": [
        "홈팀에 대한 분석"
      ],
      "metadata": {
        "id": "IS59V67ePLE8"
      }
    },
    {
      "cell_type": "code",
      "source": [
        "print(\"hw_df: Holiday\", hw_df['Holiday'].value_counts())\n",
        "print(\"hw_df: year\", hw_df['Year'].value_counts())\n",
        "print(\"hw_df: Month\", hw_df['Month'].value_counts())\n",
        "print(\"hw_df: mean(Attend.)\", hw_df['Attend.'].mean())\n",
        "print(\"hw_df: max(Attend.)\", hw_df['Attend.'].max())\n",
        "print(\"hw_df: min(Attend.)\", hw_df['Attend.'].min())"
      ],
      "metadata": {
        "colab": {
          "base_uri": "https://localhost:8080/"
        },
        "id": "PakyAlIkPJfG",
        "outputId": "13668a03-0337-412c-90b9-a05d43941613"
      },
      "execution_count": null,
      "outputs": [
        {
          "output_type": "stream",
          "name": "stdout",
          "text": [
            "hw_df: Holiday 0    543\n",
            "1    239\n",
            "Name: Holiday, dtype: int64\n",
            "hw_df: year 2016    491\n",
            "2015    291\n",
            "Name: Year, dtype: int64\n",
            "hw_df: Month 3     151\n",
            "11    139\n",
            "12    135\n",
            "1     134\n",
            "2      90\n",
            "4      87\n",
            "5      25\n",
            "10     17\n",
            "6       4\n",
            "Name: Month, dtype: int64\n",
            "hw_df: mean(Attend.) 18210.61381074169\n",
            "hw_df: max(Attend.) 23143\n",
            "hw_df: min(Attend.) 9153\n"
          ]
        }
      ]
    },
    {
      "cell_type": "markdown",
      "source": [
        "비지터 팀에 대한 분석"
      ],
      "metadata": {
        "id": "feT-2oH0POmL"
      }
    },
    {
      "cell_type": "code",
      "source": [
        "print(\"vs_df: Holiday\", visitorwin_df['Holiday'].value_counts())\n",
        "print(\"vs_df: Year\", visitorwin_df['Year'].value_counts())\n",
        "print(\"vs_df: Month\", visitorwin_df['Month'].value_counts())\n",
        "print(\"vs_df: mean(Attend.)\", visitorwin_df['Attend.'].mean())\n",
        "print(\"vs_df: max(Attend.)\", visitorwin_df['Attend.'].max())\n",
        "print(\"vs_df: min(Attend.)\", visitorwin_df['Attend.'].min())"
      ],
      "metadata": {
        "colab": {
          "base_uri": "https://localhost:8080/"
        },
        "id": "bLODgW3HPNWU",
        "outputId": "32aa8d3e-c971-4227-951c-ee6086f0a11d"
      },
      "execution_count": null,
      "outputs": [
        {
          "output_type": "stream",
          "name": "stdout",
          "text": [
            "vs_df: Holiday 0    380\n",
            "1    154\n",
            "Name: Holiday, dtype: int64\n",
            "vs_df: Year 2016    336\n",
            "2015    198\n",
            "Name: Year, dtype: int64\n",
            "vs_df: Month 1     96\n",
            "12    93\n",
            "3     86\n",
            "11    84\n",
            "2     81\n",
            "4     59\n",
            "10    21\n",
            "5     11\n",
            "6      3\n",
            "Name: Month, dtype: int64\n",
            "vs_df: mean(Attend.) 17618.04307116105\n",
            "vs_df: max(Attend.) 23152\n",
            "vs_df: min(Attend.) 9722\n"
          ]
        }
      ]
    },
    {
      "cell_type": "markdown",
      "source": [
        "홈팀이 우승한 결과에 대해 나타내는 hw_df를 만들어주었고\n",
        "\n",
        "visitor팀이 우승한 결과에 대해 나타내는 visitorwin_df를 만들어주었다\n",
        "\n",
        "전체에서 홈팀이 782번의 우승을 하였고, 비지터팀이 534번의 우승을 하였다\n",
        "\n",
        "홈팀은 non-holiday : holiday의 비율이 2.272:1 이었고 비지터팀은 2.468:1 이었다 \n",
        "\n",
        "전체 데이터의 non-holiday : holiday의 비율이 2.3486 :1 이므로 비지터팀보다 holiday일수록 우승할 확률이 높다\n",
        "\n",
        "홈팀은 년도는 2016년에 우승을 많이 하였고 달로는 3월에 제일 많이 하였다 3월에 한 우승은 다 2016년도에 한 우승이므로\n",
        "\n",
        "홈팀은 2016년 3월에 하는 경기일수록 우승을 할 확률이 높다 \n",
        "\n",
        "관중수는 우승에 큰 영향을 미치는 것 같지는 않다"
      ],
      "metadata": {
        "id": "7m5LmNACPTOB"
      }
    },
    {
      "cell_type": "markdown",
      "source": [
        "## **모델 돌리기 LogisticRegression**"
      ],
      "metadata": {
        "id": "G7cpdKrnPXIX"
      }
    },
    {
      "cell_type": "code",
      "source": [
        "flf =  LogisticRegression( multi_class='ovr',C=0.04, max_iter=10000)\n",
        "flf.fit(X_train,y_train)\n",
        "y_pred = flf.predict(X_test)\n",
        "f1 = f1_score(y_test, y_pred)\n",
        "print(\"f1 score is = \" + str(f1))"
      ],
      "metadata": {
        "colab": {
          "base_uri": "https://localhost:8080/"
        },
        "id": "ISUsB8LdPRCE",
        "outputId": "32e08159-3f98-4cd0-a483-bdfefe95aa38"
      },
      "execution_count": null,
      "outputs": [
        {
          "output_type": "stream",
          "name": "stdout",
          "text": [
            "f1 score is = 0.7737003058103975\n"
          ]
        },
        {
          "output_type": "stream",
          "name": "stderr",
          "text": [
            "/usr/local/lib/python3.7/dist-packages/sklearn/utils/validation.py:993: DataConversionWarning: A column-vector y was passed when a 1d array was expected. Please change the shape of y to (n_samples, ), for example using ravel().\n",
            "  y = column_or_1d(y, warn=True)\n"
          ]
        }
      ]
    },
    {
      "cell_type": "markdown",
      "source": [
        "# **Project 2: Adult data**"
      ],
      "metadata": {
        "id": "6dXItlgyPc4Q"
      }
    },
    {
      "cell_type": "code",
      "source": [
        "colNames = ['age', 'workclass', 'fnlwgt', 'education', 'education-num', 'marital-status', 'occupation',\n",
        "            'relationship', 'race', 'sex', 'capital-gain', 'capital-loss', 'hours-per-week', 'native-country', '50k']\n",
        "\n",
        "#데이터 불러오기\n",
        "adult = pd.read_csv('adult.data',names=colNames, index_col=False)\n",
        "adult['Earnings-Raw'] = np.where(adult['50k'] == \" <=50K\", 0, 1) #0 : \"<=50K\" 1: \">50K\" "
      ],
      "metadata": {
        "id": "uAQxxBx4Pam_"
      },
      "execution_count": null,
      "outputs": []
    },
    {
      "cell_type": "markdown",
      "source": [
        "범주형 변수 value_counts()\n",
        "\n",
        "?가 포함된 열 \n",
        "occupation: 1843행, native-country:583행, workcalss:1836 근데 결측값은 없다\n",
        "\n",
        "adult['50k']에서 <=50k : >50k는 0.75:0.25이다\n",
        "\n",
        "race, native-country, workclass는 한쪽으로 치우진 경우가 많다"
      ],
      "metadata": {
        "id": "7Xgh7Sc_P3bZ"
      }
    },
    {
      "cell_type": "markdown",
      "source": [
        "연속형 변수: age, fnlwgt, education-num, capital-gain, capital-loss, hours-per-week \n",
        "\n",
        "범주형 변수: marital-status, occupation, relationship, workclass, race -> 원핫인코딩 해주기\n",
        "            \n",
        "education은 education-num이 설명할 수 있다 생각하기 때문에 삭제한다\n",
        "\n",
        "native-country은 race가 설명할 수 있다 생각하기 때문에 삭제한다 \n",
        "\n",
        "이진형 변수: sex -> female:0, male:1로 대체\n",
        "\n",
        "종속변수 : over50k : 1: >50k , 0: <=50k "
      ],
      "metadata": {
        "id": "Q4-Imb7fP5DK"
      }
    },
    {
      "cell_type": "markdown",
      "source": [
        "## **데이터 전처리**"
      ],
      "metadata": {
        "id": "ftzdTMqZQAxz"
      }
    },
    {
      "cell_type": "code",
      "source": [
        "# ?로 되어있는 값 결측값으로 바꾼다\n",
        "adult = adult.replace(' ?',nan)\n",
        "\n",
        "print(adult.isnull().sum())"
      ],
      "metadata": {
        "colab": {
          "base_uri": "https://localhost:8080/"
        },
        "id": "owo31xBZP1Pp",
        "outputId": "2efe5cf3-cf79-43ec-bcf6-28809cd3fe67"
      },
      "execution_count": null,
      "outputs": [
        {
          "output_type": "stream",
          "name": "stdout",
          "text": [
            "age                  0\n",
            "workclass         1836\n",
            "fnlwgt               0\n",
            "education            0\n",
            "education-num        0\n",
            "marital-status       0\n",
            "occupation        1843\n",
            "relationship         0\n",
            "race                 0\n",
            "sex                  0\n",
            "capital-gain         0\n",
            "capital-loss         0\n",
            "hours-per-week       0\n",
            "native-country     583\n",
            "50k                  0\n",
            "Earnings-Raw         0\n",
            "dtype: int64\n"
          ]
        }
      ]
    },
    {
      "cell_type": "code",
      "source": [
        "#최빈값으로 결측값 대체하기 \n",
        "\n",
        "adult['native-country'].fillna(adult['native-country'].mode()[0],inplace = True)\n",
        "adult['workclass'].fillna(adult['workclass'].mode()[0],inplace = True)\n",
        "adult['occupation'].fillna(adult['occupation'].mode()[0],inplace = True)"
      ],
      "metadata": {
        "id": "ckaN3_SyQDSP"
      },
      "execution_count": null,
      "outputs": []
    },
    {
      "cell_type": "code",
      "source": [
        "#결측값 없어짐\n",
        "\n",
        "adult.isnull().sum()"
      ],
      "metadata": {
        "colab": {
          "base_uri": "https://localhost:8080/"
        },
        "id": "ILHS6OPTQE7G",
        "outputId": "07ec49a7-08a3-49c5-ad1f-442a9624582b"
      },
      "execution_count": null,
      "outputs": [
        {
          "output_type": "execute_result",
          "data": {
            "text/plain": [
              "age               0\n",
              "workclass         0\n",
              "fnlwgt            0\n",
              "education         0\n",
              "education-num     0\n",
              "marital-status    0\n",
              "occupation        0\n",
              "relationship      0\n",
              "race              0\n",
              "sex               0\n",
              "capital-gain      0\n",
              "capital-loss      0\n",
              "hours-per-week    0\n",
              "native-country    0\n",
              "50k               0\n",
              "Earnings-Raw      0\n",
              "dtype: int64"
            ]
          },
          "metadata": {},
          "execution_count": 22
        }
      ]
    },
    {
      "cell_type": "markdown",
      "source": [
        "## **상관관계를 기준으로 변수 선택**"
      ],
      "metadata": {
        "id": "1MVSC04yQJAO"
      }
    },
    {
      "cell_type": "code",
      "source": [
        "numeric_features = ['age','fnlwgt','education-num','capital-gain','capital-loss','hours-per-week','Earnings-Raw']\n",
        "sns.heatmap(adult[numeric_features].corr(),annot=True, fmt = \".2f\", cmap = \"coolwarm\")"
      ],
      "metadata": {
        "colab": {
          "base_uri": "https://localhost:8080/",
          "height": 355
        },
        "id": "7DdlD88JQGbL",
        "outputId": "151f42fd-2632-46a5-fe89-2d640235feb2"
      },
      "execution_count": null,
      "outputs": [
        {
          "output_type": "execute_result",
          "data": {
            "text/plain": [
              "<matplotlib.axes._subplots.AxesSubplot at 0x7f4fe5ee7850>"
            ]
          },
          "metadata": {},
          "execution_count": 23
        },
        {
          "output_type": "display_data",
          "data": {
            "text/plain": [
              "<Figure size 432x288 with 2 Axes>"
            ],
            "image/png": "[encoded data removed]"
          },
          "metadata": {
            "needs_background": "light"
          }
        }
      ]
    },
    {
      "cell_type": "markdown",
      "source": [
        "다른 변수들과 다르게 fnlwgt와 Earning-Raw는 0.01로 상관관계가 매우 낮았지만 변수에서 삭제하면 f1 score가 낮아지기 때문에 삭제 안 하기로 한다 ..."
      ],
      "metadata": {
        "id": "js4UK_5cQON8"
      }
    },
    {
      "cell_type": "code",
      "source": [
        "adult['sex'] = np.where(adult['sex'] == ' Male', 1, 0) #male은 1로 female은 0으로 바꿔준다\n",
        "adult_df = adult.drop(columns = ['50k']) #50k인지 아닌지 이진형으로 만든 변수(over50k)를 생성했기 때문에 50k 변수를 삭제해준다\n",
        "\n",
        "#marital-status변수는 single과 married로 이진형변수로 만들어준다음에 1,0의 값으로 바꿔준다\n",
        "\n",
        "adult_df[\"marital-status\"] = adult_df[\"marital-status\"].replace(['Never-married','Divorced','Separated','Widowed'], 'Single')\n",
        "adult_df[\"marital-status\"] = adult_df[\"marital-status\"].replace(['Married-civ-spouse','Married-spouse-absent','Married-AF-spouse'], 'Married')\n",
        "adult_df['marital-status'] = np.where(adult_df[\"marital-status\"] == 'Married',1,0) # Married:1, single:0\n",
        "\n",
        "#race만으로 충분히 설명가능하므로 native-country도 변수에서 제거해준다 \n",
        "#educatioin-num만으로도 충분히 설명가능하므로 education도 변수에서 제거해준다\n",
        "\n",
        "adult_df.drop(labels=[\"native-country\"], axis = 1, inplace = True) \n",
        "adult_df.drop(labels=[\"education\"], axis = 1, inplace = True) "
      ],
      "metadata": {
        "id": "Tiq-ufnpQLrD"
      },
      "execution_count": null,
      "outputs": []
    },
    {
      "cell_type": "markdown",
      "source": [
        "## **원핫인코딩**"
      ],
      "metadata": {
        "id": "BfUbRZZGQR9S"
      }
    },
    {
      "cell_type": "code",
      "source": [
        "ohc = OneHotEncoder(sparse=False)\n",
        "\n",
        "dogs = ['workclass', 'occupation', 'relationship', 'race']\n",
        "\n",
        "out_ohc = ohc.fit_transform(adult_df[dogs])\n",
        "new_col = ohc.get_feature_names_out(dogs).tolist()"
      ],
      "metadata": {
        "id": "joTJ6XY5QPqB"
      },
      "execution_count": null,
      "outputs": []
    },
    {
      "cell_type": "code",
      "source": [
        "df_ohc = pd.DataFrame(data = out_ohc, columns = new_col)\n",
        "df_ohc.index = adult_df.index\n",
        "\n",
        "adult_df.drop(dogs,axis=1,inplace=True)\n",
        "adult_df = pd.concat([adult_df,df_ohc],axis=1)"
      ],
      "metadata": {
        "id": "dNz-_tjsQUdX"
      },
      "execution_count": null,
      "outputs": []
    },
    {
      "cell_type": "code",
      "source": [
        "from sklearn.preprocessing import *\n",
        "\n",
        "X = adult_df.drop(columns=['Earnings-Raw']) \n",
        "y = adult_df[['Earnings-Raw']]\n",
        "\n",
        "#값들간 표준편차가 많이 차이나는 'capital-gain', 'capital-loss'는 minmascaler로 값변환을 해준다 \n",
        "scaler = MinMaxScaler()\n",
        "X[['capital-gain', 'capital-loss']] = scaler.fit_transform(X[['capital-gain', 'capital-loss']])\n",
        "\n",
        "X_train, X_test, y_train, y_test = train_test_split(X, y, test_size=.33, random_state=42)"
      ],
      "metadata": {
        "id": "CGERV-3tQV1D"
      },
      "execution_count": null,
      "outputs": []
    },
    {
      "cell_type": "markdown",
      "source": [
        "## **GridSearch**"
      ],
      "metadata": {
        "id": "i_oH1FeXQY68"
      }
    },
    {
      "cell_type": "code",
      "source": [
        "params ={\n",
        "    'n_estimators':[100],\n",
        "    'max_depth':[6,8,10,12,None],\n",
        "    'min_samples_leaf':[1,4,8,12],\n",
        "    'min_samples_split':[2,8,16,20]\n",
        "}"
      ],
      "metadata": {
        "id": "ARuqLeG1QW6d"
      },
      "execution_count": null,
      "outputs": []
    },
    {
      "cell_type": "code",
      "source": [
        "rf = RandomForestClassifier(random_state=0, n_jobs=-1)\n",
        "grid_cv = GridSearchCV(rf, param_grid=params, cv=2, n_jobs=-1)\n",
        "grid_cv.fit(X_train,y_train)"
      ],
      "metadata": {
        "colab": {
          "base_uri": "https://localhost:8080/"
        },
        "id": "09yfnsHxQi2E",
        "outputId": "def04530-c80d-409f-f841-b5d3d6ffbd0f"
      },
      "execution_count": null,
      "outputs": [
        {
          "output_type": "stream",
          "name": "stderr",
          "text": [
            "/usr/local/lib/python3.7/dist-packages/sklearn/model_selection/_search.py:926: DataConversionWarning: A column-vector y was passed when a 1d array was expected. Please change the shape of y to (n_samples,), for example using ravel().\n",
            "  self.best_estimator_.fit(X, y, **fit_params)\n"
          ]
        },
        {
          "output_type": "execute_result",
          "data": {
            "text/plain": [
              "GridSearchCV(cv=2, estimator=RandomForestClassifier(n_jobs=-1, random_state=0),\n",
              "             n_jobs=-1,\n",
              "             param_grid={'max_depth': [6, 8, 10, 12, None],\n",
              "                         'min_samples_leaf': [1, 4, 8, 12],\n",
              "                         'min_samples_split': [2, 8, 16, 20],\n",
              "                         'n_estimators': [100]})"
            ]
          },
          "metadata": {},
          "execution_count": 29
        }
      ]
    },
    {
      "cell_type": "code",
      "source": [
        "print('Best score is = ', str(grid_cv.best_score_))"
      ],
      "metadata": {
        "colab": {
          "base_uri": "https://localhost:8080/"
        },
        "id": "PUKsq7FkQkF1",
        "outputId": "2b439434-49b7-4343-d482-0ec83ced5be3"
      },
      "execution_count": null,
      "outputs": [
        {
          "output_type": "stream",
          "name": "stdout",
          "text": [
            "Best score is =  0.8607380744339523\n"
          ]
        }
      ]
    },
    {
      "cell_type": "code",
      "source": [
        "print('Best parameter are = ', str(grid_cv.best_params_))"
      ],
      "metadata": {
        "colab": {
          "base_uri": "https://localhost:8080/"
        },
        "id": "w910eBzrRB6A",
        "outputId": "7fd5f115-6dd7-47e6-986b-c1fd02f0d939"
      },
      "execution_count": null,
      "outputs": [
        {
          "output_type": "stream",
          "name": "stdout",
          "text": [
            "Best parameter are =  {'max_depth': None, 'min_samples_leaf': 4, 'min_samples_split': 2, 'n_estimators': 100}\n"
          ]
        }
      ]
    },
    {
      "cell_type": "code",
      "source": [
        "flf =  RandomForestClassifier(max_depth= None, min_samples_leaf= 4, min_samples_split=2, n_estimators= 100)\n",
        "flf.fit(X_train,y_train)\n",
        "y_pred = flf.predict(X_test)\n",
        "f1 = f1_score(y_test, y_pred)\n",
        "print(\"f1 score is = \" + str(f1))"
      ],
      "metadata": {
        "colab": {
          "base_uri": "https://localhost:8080/"
        },
        "id": "bs-QoEZPRDtz",
        "outputId": "3bc05347-60b3-4915-bb67-cc51ae2e5e61"
      },
      "execution_count": null,
      "outputs": [
        {
          "output_type": "stream",
          "name": "stderr",
          "text": [
            "/usr/local/lib/python3.7/dist-packages/ipykernel_launcher.py:2: DataConversionWarning: A column-vector y was passed when a 1d array was expected. Please change the shape of y to (n_samples,), for example using ravel().\n",
            "  \n"
          ]
        },
        {
          "output_type": "stream",
          "name": "stdout",
          "text": [
            "f1 score is = 0.6747895436420027\n"
          ]
        }
      ]
    }
  ]
}