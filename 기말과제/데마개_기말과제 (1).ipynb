{
  "nbformat": 4,
  "nbformat_minor": 0,
  "metadata": {
    "colab": {
      "provenance": [],
      "collapsed_sections": []
    },
    "kernelspec": {
      "name": "python3",
      "display_name": "Python 3"
    },
    "language_info": {
      "name": "python"
    },
    "accelerator": "GPU",
    "widgets": {
      "application/vnd.jupyter.widget-state+json": {
        "f812d8591f34448c8e7d3bfaae6ced55": {
          "model_module": "@jupyter-widgets/controls",
          "model_name": "HBoxModel",
          "model_module_version": "1.5.0",
          "state": {
            "_dom_classes": [],
            "_model_module": "@jupyter-widgets/controls",
            "_model_module_version": "1.5.0",
            "_model_name": "HBoxModel",
            "_view_count": null,
            "_view_module": "@jupyter-widgets/controls",
            "_view_module_version": "1.5.0",
            "_view_name": "HBoxView",
            "box_style": "",
            "children": [
              "IPY_MODEL_37a2bbc8d4774082a167b65e93c0996f",
              "IPY_MODEL_605564b73152452fa60ec7370fd8954b",
              "IPY_MODEL_cb038578a2e14bb4bdc49b0430ff8580"
            ],
            "layout": "IPY_MODEL_3363c7ce66ae43fd90197605444ce903"
          }
        },
        "37a2bbc8d4774082a167b65e93c0996f": {
          "model_module": "@jupyter-widgets/controls",
          "model_name": "HTMLModel",
          "model_module_version": "1.5.0",
          "state": {
            "_dom_classes": [],
            "_model_module": "@jupyter-widgets/controls",
            "_model_module_version": "1.5.0",
            "_model_name": "HTMLModel",
            "_view_count": null,
            "_view_module": "@jupyter-widgets/controls",
            "_view_module_version": "1.5.0",
            "_view_name": "HTMLView",
            "description": "",
            "description_tooltip": null,
            "layout": "IPY_MODEL_540f28eb743e437c92dd548d918d3ae8",
            "placeholder": "​",
            "style": "IPY_MODEL_fa658f4066824c30a6f5f7ee5dfcd003",
            "value": ""
          }
        },
        "605564b73152452fa60ec7370fd8954b": {
          "model_module": "@jupyter-widgets/controls",
          "model_name": "FloatProgressModel",
          "model_module_version": "1.5.0",
          "state": {
            "_dom_classes": [],
            "_model_module": "@jupyter-widgets/controls",
            "_model_module_version": "1.5.0",
            "_model_name": "FloatProgressModel",
            "_view_count": null,
            "_view_module": "@jupyter-widgets/controls",
            "_view_module_version": "1.5.0",
            "_view_name": "ProgressView",
            "bar_style": "success",
            "description": "",
            "description_tooltip": null,
            "layout": "IPY_MODEL_bfff6bb068144bc1b659cb9dd979533a",
            "max": 2640397119,
            "min": 0,
            "orientation": "horizontal",
            "style": "IPY_MODEL_73d1f4df38ce430ab0e6ecb171f06870",
            "value": 2640397119
          }
        },
        "cb038578a2e14bb4bdc49b0430ff8580": {
          "model_module": "@jupyter-widgets/controls",
          "model_name": "HTMLModel",
          "model_module_version": "1.5.0",
          "state": {
            "_dom_classes": [],
            "_model_module": "@jupyter-widgets/controls",
            "_model_module_version": "1.5.0",
            "_model_name": "HTMLModel",
            "_view_count": null,
            "_view_module": "@jupyter-widgets/controls",
            "_view_module_version": "1.5.0",
            "_view_name": "HTMLView",
            "description": "",
            "description_tooltip": null,
            "layout": "IPY_MODEL_44002ec116b6424c9a8e5f2efae90bb1",
            "placeholder": "​",
            "style": "IPY_MODEL_441c161b800249a0a4049a80cd2e2f8d",
            "value": " 2640397312/? [02:50&lt;00:00, 16426909.65it/s]"
          }
        },
        "3363c7ce66ae43fd90197605444ce903": {
          "model_module": "@jupyter-widgets/base",
          "model_name": "LayoutModel",
          "model_module_version": "1.2.0",
          "state": {
            "_model_module": "@jupyter-widgets/base",
            "_model_module_version": "1.2.0",
            "_model_name": "LayoutModel",
            "_view_count": null,
            "_view_module": "@jupyter-widgets/base",
            "_view_module_version": "1.2.0",
            "_view_name": "LayoutView",
            "align_content": null,
            "align_items": null,
            "align_self": null,
            "border": null,
            "bottom": null,
            "display": null,
            "flex": null,
            "flex_flow": null,
            "grid_area": null,
            "grid_auto_columns": null,
            "grid_auto_flow": null,
            "grid_auto_rows": null,
            "grid_column": null,
            "grid_gap": null,
            "grid_row": null,
            "grid_template_areas": null,
            "grid_template_columns": null,
            "grid_template_rows": null,
            "height": null,
            "justify_content": null,
            "justify_items": null,
            "left": null,
            "margin": null,
            "max_height": null,
            "max_width": null,
            "min_height": null,
            "min_width": null,
            "object_fit": null,
            "object_position": null,
            "order": null,
            "overflow": null,
            "overflow_x": null,
            "overflow_y": null,
            "padding": null,
            "right": null,
            "top": null,
            "visibility": null,
            "width": null
          }
        },
        "540f28eb743e437c92dd548d918d3ae8": {
          "model_module": "@jupyter-widgets/base",
          "model_name": "LayoutModel",
          "model_module_version": "1.2.0",
          "state": {
            "_model_module": "@jupyter-widgets/base",
            "_model_module_version": "1.2.0",
            "_model_name": "LayoutModel",
            "_view_count": null,
            "_view_module": "@jupyter-widgets/base",
            "_view_module_version": "1.2.0",
            "_view_name": "LayoutView",
            "align_content": null,
            "align_items": null,
            "align_self": null,
            "border": null,
            "bottom": null,
            "display": null,
            "flex": null,
            "flex_flow": null,
            "grid_area": null,
            "grid_auto_columns": null,
            "grid_auto_flow": null,
            "grid_auto_rows": null,
            "grid_column": null,
            "grid_gap": null,
            "grid_row": null,
            "grid_template_areas": null,
            "grid_template_columns": null,
            "grid_template_rows": null,
            "height": null,
            "justify_content": null,
            "justify_items": null,
            "left": null,
            "margin": null,
            "max_height": null,
            "max_width": null,
            "min_height": null,
            "min_width": null,
            "object_fit": null,
            "object_position": null,
            "order": null,
            "overflow": null,
            "overflow_x": null,
            "overflow_y": null,
            "padding": null,
            "right": null,
            "top": null,
            "visibility": null,
            "width": null
          }
        },
        "fa658f4066824c30a6f5f7ee5dfcd003": {
          "model_module": "@jupyter-widgets/controls",
          "model_name": "DescriptionStyleModel",
          "model_module_version": "1.5.0",
          "state": {
            "_model_module": "@jupyter-widgets/controls",
            "_model_module_version": "1.5.0",
            "_model_name": "DescriptionStyleModel",
            "_view_count": null,
            "_view_module": "@jupyter-widgets/base",
            "_view_module_version": "1.2.0",
            "_view_name": "StyleView",
            "description_width": ""
          }
        },
        "bfff6bb068144bc1b659cb9dd979533a": {
          "model_module": "@jupyter-widgets/base",
          "model_name": "LayoutModel",
          "model_module_version": "1.2.0",
          "state": {
            "_model_module": "@jupyter-widgets/base",
            "_model_module_version": "1.2.0",
            "_model_name": "LayoutModel",
            "_view_count": null,
            "_view_module": "@jupyter-widgets/base",
            "_view_module_version": "1.2.0",
            "_view_name": "LayoutView",
            "align_content": null,
            "align_items": null,
            "align_self": null,
            "border": null,
            "bottom": null,
            "display": null,
            "flex": null,
            "flex_flow": null,
            "grid_area": null,
            "grid_auto_columns": null,
            "grid_auto_flow": null,
            "grid_auto_rows": null,
            "grid_column": null,
            "grid_gap": null,
            "grid_row": null,
            "grid_template_areas": null,
            "grid_template_columns": null,
            "grid_template_rows": null,
            "height": null,
            "justify_content": null,
            "justify_items": null,
            "left": null,
            "margin": null,
            "max_height": null,
            "max_width": null,
            "min_height": null,
            "min_width": null,
            "object_fit": null,
            "object_position": null,
            "order": null,
            "overflow": null,
            "overflow_x": null,
            "overflow_y": null,
            "padding": null,
            "right": null,
            "top": null,
            "visibility": null,
            "width": null
          }
        },
        "73d1f4df38ce430ab0e6ecb171f06870": {
          "model_module": "@jupyter-widgets/controls",
          "model_name": "ProgressStyleModel",
          "model_module_version": "1.5.0",
          "state": {
            "_model_module": "@jupyter-widgets/controls",
            "_model_module_version": "1.5.0",
            "_model_name": "ProgressStyleModel",
            "_view_count": null,
            "_view_module": "@jupyter-widgets/base",
            "_view_module_version": "1.2.0",
            "_view_name": "StyleView",
            "bar_color": null,
            "description_width": ""
          }
        },
        "44002ec116b6424c9a8e5f2efae90bb1": {
          "model_module": "@jupyter-widgets/base",
          "model_name": "LayoutModel",
          "model_module_version": "1.2.0",
          "state": {
            "_model_module": "@jupyter-widgets/base",
            "_model_module_version": "1.2.0",
            "_model_name": "LayoutModel",
            "_view_count": null,
            "_view_module": "@jupyter-widgets/base",
            "_view_module_version": "1.2.0",
            "_view_name": "LayoutView",
            "align_content": null,
            "align_items": null,
            "align_self": null,
            "border": null,
            "bottom": null,
            "display": null,
            "flex": null,
            "flex_flow": null,
            "grid_area": null,
            "grid_auto_columns": null,
            "grid_auto_flow": null,
            "grid_auto_rows": null,
            "grid_column": null,
            "grid_gap": null,
            "grid_row": null,
            "grid_template_areas": null,
            "grid_template_columns": null,
            "grid_template_rows": null,
            "height": null,
            "justify_content": null,
            "justify_items": null,
            "left": null,
            "margin": null,
            "max_height": null,
            "max_width": null,
            "min_height": null,
            "min_width": null,
            "object_fit": null,
            "object_position": null,
            "order": null,
            "overflow": null,
            "overflow_x": null,
            "overflow_y": null,
            "padding": null,
            "right": null,
            "top": null,
            "visibility": null,
            "width": null
          }
        },
        "441c161b800249a0a4049a80cd2e2f8d": {
          "model_module": "@jupyter-widgets/controls",
          "model_name": "DescriptionStyleModel",
          "model_module_version": "1.5.0",
          "state": {
            "_model_module": "@jupyter-widgets/controls",
            "_model_module_version": "1.5.0",
            "_model_name": "DescriptionStyleModel",
            "_view_count": null,
            "_view_module": "@jupyter-widgets/base",
            "_view_module_version": "1.2.0",
            "_view_name": "StyleView",
            "description_width": ""
          }
        },
        "75021c5bc6bf465997f5833e4426f063": {
          "model_module": "@jupyter-widgets/controls",
          "model_name": "HBoxModel",
          "model_module_version": "1.5.0",
          "state": {
            "_dom_classes": [],
            "_model_module": "@jupyter-widgets/controls",
            "_model_module_version": "1.5.0",
            "_model_name": "HBoxModel",
            "_view_count": null,
            "_view_module": "@jupyter-widgets/controls",
            "_view_module_version": "1.5.0",
            "_view_name": "HBoxView",
            "box_style": "",
            "children": [
              "IPY_MODEL_5df14dc70af7496cb508de0e90813891",
              "IPY_MODEL_aecf7d6d0a48472ab6b2c213f6bc6421",
              "IPY_MODEL_9fa98a16cba64c2186cbf60e207fbbcf"
            ],
            "layout": "IPY_MODEL_551d209d84cf49d3bc2c418e4cbf3991"
          }
        },
        "5df14dc70af7496cb508de0e90813891": {
          "model_module": "@jupyter-widgets/controls",
          "model_name": "HTMLModel",
          "model_module_version": "1.5.0",
          "state": {
            "_dom_classes": [],
            "_model_module": "@jupyter-widgets/controls",
            "_model_module_version": "1.5.0",
            "_model_name": "HTMLModel",
            "_view_count": null,
            "_view_module": "@jupyter-widgets/controls",
            "_view_module_version": "1.5.0",
            "_view_name": "HTMLView",
            "description": "",
            "description_tooltip": null,
            "layout": "IPY_MODEL_eaf1b78f295841d1a944d14d4fd71b8b",
            "placeholder": "​",
            "style": "IPY_MODEL_8aaf64c97c7e4b67b87a401fa00a1444",
            "value": ""
          }
        },
        "aecf7d6d0a48472ab6b2c213f6bc6421": {
          "model_module": "@jupyter-widgets/controls",
          "model_name": "FloatProgressModel",
          "model_module_version": "1.5.0",
          "state": {
            "_dom_classes": [],
            "_model_module": "@jupyter-widgets/controls",
            "_model_module_version": "1.5.0",
            "_model_name": "FloatProgressModel",
            "_view_count": null,
            "_view_module": "@jupyter-widgets/controls",
            "_view_module_version": "1.5.0",
            "_view_name": "ProgressView",
            "bar_style": "success",
            "description": "",
            "description_tooltip": null,
            "layout": "IPY_MODEL_1d79b481b2bc4478a4869a22a999b9aa",
            "max": 170498071,
            "min": 0,
            "orientation": "horizontal",
            "style": "IPY_MODEL_3d4820023e4e488a9e93c8f039d67449",
            "value": 170498071
          }
        },
        "9fa98a16cba64c2186cbf60e207fbbcf": {
          "model_module": "@jupyter-widgets/controls",
          "model_name": "HTMLModel",
          "model_module_version": "1.5.0",
          "state": {
            "_dom_classes": [],
            "_model_module": "@jupyter-widgets/controls",
            "_model_module_version": "1.5.0",
            "_model_name": "HTMLModel",
            "_view_count": null,
            "_view_module": "@jupyter-widgets/controls",
            "_view_module_version": "1.5.0",
            "_view_name": "HTMLView",
            "description": "",
            "description_tooltip": null,
            "layout": "IPY_MODEL_ceddad2c703747dca96a460b63706b76",
            "placeholder": "​",
            "style": "IPY_MODEL_9c47328f48044d01a56f0c86ef22e0a9",
            "value": " 170499072/? [00:02&lt;00:00, 54773249.18it/s]"
          }
        },
        "551d209d84cf49d3bc2c418e4cbf3991": {
          "model_module": "@jupyter-widgets/base",
          "model_name": "LayoutModel",
          "model_module_version": "1.2.0",
          "state": {
            "_model_module": "@jupyter-widgets/base",
            "_model_module_version": "1.2.0",
            "_model_name": "LayoutModel",
            "_view_count": null,
            "_view_module": "@jupyter-widgets/base",
            "_view_module_version": "1.2.0",
            "_view_name": "LayoutView",
            "align_content": null,
            "align_items": null,
            "align_self": null,
            "border": null,
            "bottom": null,
            "display": null,
            "flex": null,
            "flex_flow": null,
            "grid_area": null,
            "grid_auto_columns": null,
            "grid_auto_flow": null,
            "grid_auto_rows": null,
            "grid_column": null,
            "grid_gap": null,
            "grid_row": null,
            "grid_template_areas": null,
            "grid_template_columns": null,
            "grid_template_rows": null,
            "height": null,
            "justify_content": null,
            "justify_items": null,
            "left": null,
            "margin": null,
            "max_height": null,
            "max_width": null,
            "min_height": null,
            "min_width": null,
            "object_fit": null,
            "object_position": null,
            "order": null,
            "overflow": null,
            "overflow_x": null,
            "overflow_y": null,
            "padding": null,
            "right": null,
            "top": null,
            "visibility": null,
            "width": null
          }
        },
        "eaf1b78f295841d1a944d14d4fd71b8b": {
          "model_module": "@jupyter-widgets/base",
          "model_name": "LayoutModel",
          "model_module_version": "1.2.0",
          "state": {
            "_model_module": "@jupyter-widgets/base",
            "_model_module_version": "1.2.0",
            "_model_name": "LayoutModel",
            "_view_count": null,
            "_view_module": "@jupyter-widgets/base",
            "_view_module_version": "1.2.0",
            "_view_name": "LayoutView",
            "align_content": null,
            "align_items": null,
            "align_self": null,
            "border": null,
            "bottom": null,
            "display": null,
            "flex": null,
            "flex_flow": null,
            "grid_area": null,
            "grid_auto_columns": null,
            "grid_auto_flow": null,
            "grid_auto_rows": null,
            "grid_column": null,
            "grid_gap": null,
            "grid_row": null,
            "grid_template_areas": null,
            "grid_template_columns": null,
            "grid_template_rows": null,
            "height": null,
            "justify_content": null,
            "justify_items": null,
            "left": null,
            "margin": null,
            "max_height": null,
            "max_width": null,
            "min_height": null,
            "min_width": null,
            "object_fit": null,
            "object_position": null,
            "order": null,
            "overflow": null,
            "overflow_x": null,
            "overflow_y": null,
            "padding": null,
            "right": null,
            "top": null,
            "visibility": null,
            "width": null
          }
        },
        "8aaf64c97c7e4b67b87a401fa00a1444": {
          "model_module": "@jupyter-widgets/controls",
          "model_name": "DescriptionStyleModel",
          "model_module_version": "1.5.0",
          "state": {
            "_model_module": "@jupyter-widgets/controls",
            "_model_module_version": "1.5.0",
            "_model_name": "DescriptionStyleModel",
            "_view_count": null,
            "_view_module": "@jupyter-widgets/base",
            "_view_module_version": "1.2.0",
            "_view_name": "StyleView",
            "description_width": ""
          }
        },
        "1d79b481b2bc4478a4869a22a999b9aa": {
          "model_module": "@jupyter-widgets/base",
          "model_name": "LayoutModel",
          "model_module_version": "1.2.0",
          "state": {
            "_model_module": "@jupyter-widgets/base",
            "_model_module_version": "1.2.0",
            "_model_name": "LayoutModel",
            "_view_count": null,
            "_view_module": "@jupyter-widgets/base",
            "_view_module_version": "1.2.0",
            "_view_name": "LayoutView",
            "align_content": null,
            "align_items": null,
            "align_self": null,
            "border": null,
            "bottom": null,
            "display": null,
            "flex": null,
            "flex_flow": null,
            "grid_area": null,
            "grid_auto_columns": null,
            "grid_auto_flow": null,
            "grid_auto_rows": null,
            "grid_column": null,
            "grid_gap": null,
            "grid_row": null,
            "grid_template_areas": null,
            "grid_template_columns": null,
            "grid_template_rows": null,
            "height": null,
            "justify_content": null,
            "justify_items": null,
            "left": null,
            "margin": null,
            "max_height": null,
            "max_width": null,
            "min_height": null,
            "min_width": null,
            "object_fit": null,
            "object_position": null,
            "order": null,
            "overflow": null,
            "overflow_x": null,
            "overflow_y": null,
            "padding": null,
            "right": null,
            "top": null,
            "visibility": null,
            "width": null
          }
        },
        "3d4820023e4e488a9e93c8f039d67449": {
          "model_module": "@jupyter-widgets/controls",
          "model_name": "ProgressStyleModel",
          "model_module_version": "1.5.0",
          "state": {
            "_model_module": "@jupyter-widgets/controls",
            "_model_module_version": "1.5.0",
            "_model_name": "ProgressStyleModel",
            "_view_count": null,
            "_view_module": "@jupyter-widgets/base",
            "_view_module_version": "1.2.0",
            "_view_name": "StyleView",
            "bar_color": null,
            "description_width": ""
          }
        },
        "ceddad2c703747dca96a460b63706b76": {
          "model_module": "@jupyter-widgets/base",
          "model_name": "LayoutModel",
          "model_module_version": "1.2.0",
          "state": {
            "_model_module": "@jupyter-widgets/base",
            "_model_module_version": "1.2.0",
            "_model_name": "LayoutModel",
            "_view_count": null,
            "_view_module": "@jupyter-widgets/base",
            "_view_module_version": "1.2.0",
            "_view_name": "LayoutView",
            "align_content": null,
            "align_items": null,
            "align_self": null,
            "border": null,
            "bottom": null,
            "display": null,
            "flex": null,
            "flex_flow": null,
            "grid_area": null,
            "grid_auto_columns": null,
            "grid_auto_flow": null,
            "grid_auto_rows": null,
            "grid_column": null,
            "grid_gap": null,
            "grid_row": null,
            "grid_template_areas": null,
            "grid_template_columns": null,
            "grid_template_rows": null,
            "height": null,
            "justify_content": null,
            "justify_items": null,
            "left": null,
            "margin": null,
            "max_height": null,
            "max_width": null,
            "min_height": null,
            "min_width": null,
            "object_fit": null,
            "object_position": null,
            "order": null,
            "overflow": null,
            "overflow_x": null,
            "overflow_y": null,
            "padding": null,
            "right": null,
            "top": null,
            "visibility": null,
            "width": null
          }
        },
        "9c47328f48044d01a56f0c86ef22e0a9": {
          "model_module": "@jupyter-widgets/controls",
          "model_name": "DescriptionStyleModel",
          "model_module_version": "1.5.0",
          "state": {
            "_model_module": "@jupyter-widgets/controls",
            "_model_module_version": "1.5.0",
            "_model_name": "DescriptionStyleModel",
            "_view_count": null,
            "_view_module": "@jupyter-widgets/base",
            "_view_module_version": "1.2.0",
            "_view_name": "StyleView",
            "description_width": ""
          }
        }
      }
    },
    "gpuClass": "standard"
  },
  "cells": [
    {
      "cell_type": "code",
      "execution_count": null,
      "metadata": {
        "id": "C8bNItmrw9Ux"
      },
      "outputs": [],
      "source": [
        "import torch\n",
        "import torchvision\n",
        "import torchvision.transforms as transforms\n",
        "from torch.utils.data import DataLoader, Dataset\n",
        "import numpy as np\n",
        "import matplotlib.pyplot as plt"
      ]
    },
    {
      "cell_type": "code",
      "source": [
        "import torch.nn as nn\n",
        "import torch.optim as optim\n",
        "import torch.nn.init as init\n",
        "\n",
        "import torchvision.datasets as dset "
      ],
      "metadata": {
        "id": "0-VHzst26X1V"
      },
      "execution_count": null,
      "outputs": []
    },
    {
      "cell_type": "markdown",
      "source": [
        "# **문제 1번**"
      ],
      "metadata": {
        "id": "H98A-HQAy4u8"
      }
    },
    {
      "cell_type": "markdown",
      "source": [
        "**데이터 불러오기**"
      ],
      "metadata": {
        "id": "XYf25WJf5UeE"
      }
    },
    {
      "cell_type": "code",
      "source": [
        "transform = transforms.Compose([                 \n",
        "     transforms.ToTensor(),\n",
        "     transforms.Normalize((0.485, 0.456, 0.406), (0.229, 0.224, 0.225))])\n",
        "\n",
        "batch_size = 4\n",
        "\n",
        "trainset = torchvision.datasets.CIFAR10(root='./data', train=True,download=True, transform=transform)\n",
        "trainloader = torch.utils.data.DataLoader(trainset, batch_size=batch_size, shuffle=True, num_workers=2)\n",
        "\n",
        "testset = torchvision.datasets.CIFAR10(root='./data', train=False, download=True, transform=transform)\n",
        "testloader = torch.utils.data.DataLoader(testset, batch_size=batch_size, shuffle=False, num_workers=2)\n",
        "\n",
        "classes = ('plane', 'car', 'bird', 'cat',\n",
        "           'deer', 'dog', 'frog', 'horse', 'ship', 'truck')"
      ],
      "metadata": {
        "colab": {
          "base_uri": "https://localhost:8080/",
          "height": 105,
          "referenced_widgets": [
            "75021c5bc6bf465997f5833e4426f063",
            "5df14dc70af7496cb508de0e90813891",
            "aecf7d6d0a48472ab6b2c213f6bc6421",
            "9fa98a16cba64c2186cbf60e207fbbcf",
            "551d209d84cf49d3bc2c418e4cbf3991",
            "eaf1b78f295841d1a944d14d4fd71b8b",
            "8aaf64c97c7e4b67b87a401fa00a1444",
            "1d79b481b2bc4478a4869a22a999b9aa",
            "3d4820023e4e488a9e93c8f039d67449",
            "ceddad2c703747dca96a460b63706b76",
            "9c47328f48044d01a56f0c86ef22e0a9"
          ]
        },
        "id": "XY8m6IprzGsA",
        "outputId": "64d6c2a2-b5d4-4150-88f9-a26802ea008e"
      },
      "execution_count": null,
      "outputs": [
        {
          "output_type": "stream",
          "name": "stdout",
          "text": [
            "Downloading https://www.cs.toronto.edu/~kriz/cifar-10-python.tar.gz to ./data/cifar-10-python.tar.gz\n"
          ]
        },
        {
          "output_type": "display_data",
          "data": {
            "text/plain": [
              "  0%|          | 0/170498071 [00:00<?, ?it/s]"
            ],
            "application/vnd.jupyter.widget-view+json": {
              "version_major": 2,
              "version_minor": 0,
              "model_id": "75021c5bc6bf465997f5833e4426f063"
            }
          },
          "metadata": {}
        },
        {
          "output_type": "stream",
          "name": "stdout",
          "text": [
            "Extracting ./data/cifar-10-python.tar.gz to ./data\n",
            "Files already downloaded and verified\n"
          ]
        }
      ]
    },
    {
      "cell_type": "code",
      "source": [
        "trainset.shape()"
      ],
      "metadata": {
        "colab": {
          "base_uri": "https://localhost:8080/",
          "height": 176
        },
        "id": "eLc99kRGG-b-",
        "outputId": "b64c404c-d2e3-4936-9e45-25740c919f5b"
      },
      "execution_count": null,
      "outputs": [
        {
          "output_type": "error",
          "ename": "AttributeError",
          "evalue": "ignored",
          "traceback": [
            "\u001b[0;31m---------------------------------------------------------------------------\u001b[0m",
            "\u001b[0;31mAttributeError\u001b[0m                            Traceback (most recent call last)",
            "\u001b[0;32m<ipython-input-5-7f3eed76773a>\u001b[0m in \u001b[0;36m<module>\u001b[0;34m()\u001b[0m\n\u001b[0;32m----> 1\u001b[0;31m \u001b[0mtrainset\u001b[0m\u001b[0;34m.\u001b[0m\u001b[0mshape\u001b[0m\u001b[0;34m(\u001b[0m\u001b[0;34m)\u001b[0m\u001b[0;34m\u001b[0m\u001b[0;34m\u001b[0m\u001b[0m\n\u001b[0m",
            "\u001b[0;31mAttributeError\u001b[0m: 'CIFAR10' object has no attribute 'shape'"
          ]
        }
      ]
    },
    {
      "cell_type": "markdown",
      "source": [
        "**이미지확인**"
      ],
      "metadata": {
        "id": "4lqdBZIk5STg"
      }
    },
    {
      "cell_type": "markdown",
      "source": [
        "imges.shape = [4,3,32,32]\n",
        "\n",
        "images[0].shape = [3,32,32]"
      ],
      "metadata": {
        "id": "xXucHp0X5i8r"
      }
    },
    {
      "cell_type": "markdown",
      "source": [
        "**conv2d + ReLU의 층을 더 쌓으면 이미지의 특성 처리하는 층이 늘어나 성능이 높아 질거라는 예상을 하고 시도1 모델에다가 conv2d+ ReLU층을 쌓아 시도2를 해보았고 시도2 모델에다가 conv2d + ReLU층을 쌓아 시도를 해보았다. 시도 1 ,2 ,3에서 output의 가로 픽셀수와 세로 픽셀수를 동일하게 해주고싶어 추가하는 conv2d층에다가는 padding = 2 인속성을 추가해주었다**"
      ],
      "metadata": {
        "id": "Rvmbsm3U7yEz"
      }
    },
    {
      "cell_type": "markdown",
      "source": [
        "## **시도 1 : layers 14**"
      ],
      "metadata": {
        "id": "uSEZSN507gi5"
      }
    },
    {
      "cell_type": "code",
      "source": [
        "# set parameters\n",
        "learning_rate = 0.0004\n",
        "num_epoch = 10\n",
        "\n",
        "\n",
        "# CNN 모델학습\n",
        "import torch.nn as nn\n",
        "import torch.nn.functional as F\n",
        "\n",
        "class Net(nn.Module):\n",
        "    def __init__(self):\n",
        "        super().__init__()\n",
        "        self.layer = nn.Sequential(\n",
        "            nn.Conv2d(in_channels = 3,out_channels =16,kernel_size = 5),   # [4,3,32,32]->[16,3,28,28]\n",
        "            nn.ReLU(),\n",
        "            nn.MaxPool2d(2,2),                                             # [4,16,28,28]->[4,16,14,14]\n",
        "            nn.Conv2d(in_channels = 16,out_channels =32,kernel_size = 5),  # [4,16,14,14]->[4,32,10,10]\n",
        "            nn.ReLU(),\n",
        "            nn.MaxPool2d(2,2),                                             # [4,32,10,10]->[4,32,5,5]\n",
        "            nn.Conv2d(32,64,5,padding=2),                                  # [4,32,5,5]->[4,64,5,5]\n",
        "            nn.ReLU(),\n",
        "            nn.Flatten(),\n",
        "            nn.Linear(64 * 5 * 5, 120),\n",
        "            nn.ReLU(),\n",
        "            nn.Linear(120, 84),\n",
        "            nn.ReLU(),\n",
        "            nn.Linear(84, 10)\n",
        "        )\n",
        "\n",
        "    def forward(self, x):\n",
        "      out = self.layer(x)\n",
        "      return out\n",
        "\n",
        "net = Net()\n",
        "\n",
        "# 손실함수와 옵티마이저 정하기\n",
        "import torch.optim as optim\n",
        "criterion = nn.CrossEntropyLoss()\n",
        "optimizer = optim.SGD(net.parameters(), lr=0.001, momentum=0.9)"
      ],
      "metadata": {
        "id": "0_AjlD8uMakf"
      },
      "execution_count": null,
      "outputs": []
    },
    {
      "cell_type": "code",
      "source": [
        "#신경망 학습하기\n",
        "for epoch in range(2):   # 데이터셋을 수차례 반복합니다.\n",
        "    running_loss = 0.0\n",
        "    for i, data in enumerate(trainloader, 0):\n",
        "        # [inputs, labels]의 목록인 data로부터 입력을 받은 후;\n",
        "        inputs, labels = data\n",
        "\n",
        "        # 변화도(Gradient) 매개변수를 0으로 만들고\n",
        "        optimizer.zero_grad()\n",
        "\n",
        "        # 순전파 + 역전파 + 최적화를 한 후\n",
        "        outputs = net(inputs)\n",
        "        loss = criterion(outputs, labels)\n",
        "        loss.backward()\n",
        "        optimizer.step()\n",
        "\n",
        "        # 통계를 출력합니다.\n",
        "        running_loss += loss.item()\n",
        "        if i % 2000 == 1999:    # print every 2000 mini-batches\n",
        "            print(f'[{epoch + 1}, {i + 1:5d}] loss: {running_loss / 2000:.3f}')\n",
        "            running_loss = 0.0\n",
        "\n",
        "print('Finished Training')"
      ],
      "metadata": {
        "colab": {
          "base_uri": "https://localhost:8080/"
        },
        "id": "XHiRoC1FMj6A",
        "outputId": "636ccb54-ed60-4a29-9eb1-a911ecbec4b6"
      },
      "execution_count": null,
      "outputs": [
        {
          "output_type": "stream",
          "name": "stdout",
          "text": [
            "[1,  2000] loss: 2.160\n",
            "[1,  4000] loss: 1.751\n",
            "[1,  6000] loss: 1.593\n",
            "[1,  8000] loss: 1.508\n",
            "[1, 10000] loss: 1.417\n",
            "[1, 12000] loss: 1.365\n",
            "[2,  2000] loss: 1.263\n",
            "[2,  4000] loss: 1.240\n",
            "[2,  6000] loss: 1.202\n",
            "[2,  8000] loss: 1.188\n",
            "[2, 10000] loss: 1.129\n",
            "[2, 12000] loss: 1.132\n",
            "Finished Training\n"
          ]
        }
      ]
    },
    {
      "cell_type": "code",
      "source": [
        "for data in testloader:\n",
        "        images, labels = data\n",
        "outputs = net(images)\n",
        "\n",
        "correct = 0\n",
        "total = 0\n",
        "with torch.no_grad():\n",
        "    for data in testloader:\n",
        "        images, labels = data\n",
        "        outputs = net(images)\n",
        "        _, predicted = torch.max(outputs.data, 1)\n",
        "        total += labels.size(0)\n",
        "        correct += (predicted == labels).sum().item()\n",
        "\n",
        "print(f'Accuracy of the network on the 10000 test images: {100 * correct // total} %')"
      ],
      "metadata": {
        "colab": {
          "base_uri": "https://localhost:8080/"
        },
        "id": "e9PCqDo5MomO",
        "outputId": "266ba538-dd59-444c-c280-06de6aed5c05"
      },
      "execution_count": null,
      "outputs": [
        {
          "output_type": "stream",
          "name": "stdout",
          "text": [
            "Accuracy of the network on the 10000 test images: 61 %\n"
          ]
        }
      ]
    },
    {
      "cell_type": "markdown",
      "source": [
        "## **시도 2: layers: 16**"
      ],
      "metadata": {
        "id": "6FVLSTUmL98i"
      }
    },
    {
      "cell_type": "code",
      "source": [
        "# set parameters\n",
        "learning_rate = 0.0004\n",
        "num_epoch = 10\n",
        "\n",
        "# CNN 모델학습\n",
        "import torch.nn as nn\n",
        "import torch.nn.functional as F\n",
        "\n",
        "class Net1(nn.Module):\n",
        "    def __init__(self):\n",
        "        super().__init__()\n",
        "        self.layer = nn.Sequential(\n",
        "            nn.Conv2d(in_channels = 3,out_channels =16,kernel_size = 5),   # [4,3,32,32]->[16,3,28,28]\n",
        "            nn.ReLU(),\n",
        "            nn.MaxPool2d(2,2),                                             # [4,1628,28]->[4,16,14,14]\n",
        "            nn.Conv2d(in_channels = 16,out_channels =32,kernel_size = 5),  # [4,16,14,14]->[4,32,10,10]\n",
        "            nn.ReLU(),\n",
        "            nn.MaxPool2d(2,2),                                             # [4,32,10,10]->[4,32,5,5]\n",
        "            nn.Conv2d(32,64,5,padding=2),                                  # [4,32,5,5]->[4,64,5,5]\n",
        "            nn.ReLU(),\n",
        "            #--------------추가된레이어\n",
        "            nn.Conv2d(64,192,5,padding=2),                                  # [4,64,5,5]->[4,192,5,5]\n",
        "            nn.ReLU(),\n",
        "            #---------------------\n",
        "            nn.Flatten(),\n",
        "            nn.Linear(192 * 5 * 5, 120),\n",
        "            nn.ReLU(),\n",
        "            nn.Linear(120, 84),\n",
        "            nn.ReLU(),\n",
        "            nn.Linear(84, 10)\n",
        "        )\n",
        "\n",
        "    def forward(self, x):\n",
        "      out = self.layer(x)\n",
        "      return out\n",
        "\n",
        "\n",
        "net = Net1()\n",
        "\n",
        "# 손실함수와 옵티마이저 정하기\n",
        "criterion = nn.CrossEntropyLoss()\n",
        "optimizer = optim.SGD(net.parameters(), lr=0.001, momentum=0.9)\n",
        "\n",
        "path = \"/content/data/model.pt\"\n",
        "torch.save(net, path)"
      ],
      "metadata": {
        "id": "DztxacRfN5-j"
      },
      "execution_count": null,
      "outputs": []
    },
    {
      "cell_type": "code",
      "source": [
        "model = torch.load('model.pt')\n",
        "\n",
        "#신경망 학습하기\n",
        "for epoch in range(2): \n",
        "    running_loss = 0.0\n",
        "    for i, data in enumerate(trainloader, 0):\n",
        "        inputs, labels = data\n",
        "\n",
        "        optimizer.zero_grad()\n",
        "        outputs = net(inputs)\n",
        "        loss = criterion(outputs, labels)\n",
        "        loss.backward()\n",
        "        optimizer.step()\n",
        "\n",
        "        running_loss += loss.item()\n",
        "        if i % 2000 == 1999:    # print every 2000 mini-batches\n",
        "            print(f'[{epoch + 1}, {i + 1:5d}] loss: {running_loss / 2000:.3f}')\n",
        "            running_loss = 0.0"
      ],
      "metadata": {
        "colab": {
          "base_uri": "https://localhost:8080/"
        },
        "id": "g6jdKPP3EH8d",
        "outputId": "88ed07eb-e7d2-48bc-8c62-da72067ce272"
      },
      "execution_count": null,
      "outputs": [
        {
          "output_type": "stream",
          "name": "stdout",
          "text": [
            "[1,  2000] loss: 1.669\n",
            "[1,  4000] loss: 1.564\n",
            "[1,  6000] loss: 1.471\n",
            "[1,  8000] loss: 1.407\n",
            "[1, 10000] loss: 1.357\n",
            "[1, 12000] loss: 1.329\n",
            "[2,  2000] loss: 1.204\n",
            "[2,  4000] loss: 1.180\n",
            "[2,  6000] loss: 1.144\n",
            "[2,  8000] loss: 1.138\n",
            "[2, 10000] loss: 1.089\n",
            "[2, 12000] loss: 1.064\n"
          ]
        }
      ]
    },
    {
      "cell_type": "code",
      "source": [
        "#정확도 체크\n",
        "outputs = net(images)\n",
        "\n",
        "correct = 0\n",
        "total = 0\n",
        "with torch.no_grad():\n",
        "    for data in testloader:\n",
        "        images, labels = data\n",
        "        outputs = net(images)\n",
        "        _, predicted = torch.max(outputs.data, 1)\n",
        "        total += labels.size(0)\n",
        "        correct += (predicted == labels).sum().item()\n",
        "\n",
        "print(f'Accuracy of the network on the 10000 test images: {100 * correct // total} %')"
      ],
      "metadata": {
        "colab": {
          "base_uri": "https://localhost:8080/"
        },
        "id": "nVmGNDCBODxu",
        "outputId": "f9d7e279-4282-447b-c30c-c342c1163812"
      },
      "execution_count": null,
      "outputs": [
        {
          "output_type": "stream",
          "name": "stdout",
          "text": [
            "Accuracy of the network on the 10000 test images: 63 %\n"
          ]
        }
      ]
    },
    {
      "cell_type": "markdown",
      "source": [
        "## **시도 3: 18 layers**"
      ],
      "metadata": {
        "id": "YZfhvF2WPBJE"
      }
    },
    {
      "cell_type": "code",
      "source": [
        "# set parameters\n",
        "learning_rate = 0.0002\n",
        "num_epoch = 10\n",
        "\n",
        "\n",
        "# CNN 모델학습\n",
        "import torch.nn as nn\n",
        "import torch.nn.functional as F\n",
        "\n",
        "class Net(nn.Module):\n",
        "    def __init__(self):\n",
        "        super().__init__()\n",
        "        self.layer = nn.Sequential(\n",
        "            nn.Conv2d(in_channels = 3,out_channels =16,kernel_size = 5),   # [4,3,32,32]->[16,3,28,28]\n",
        "            nn.ReLU(),\n",
        "            nn.MaxPool2d(2,2),                                             # [4,16,28,28]->[4,16,14,14]\n",
        "            nn.Conv2d(in_channels = 16,out_channels =32,kernel_size = 5),  # [4,16,14,14]->[4,32,10,10]\n",
        "            nn.ReLU(),\n",
        "            nn.MaxPool2d(2,2),                                             # [4,32,10,10]->[4,32,5,5]\n",
        "            nn.Conv2d(32,64,5,padding=2),                                  # [4,32,5,5]->[4,64,5,5]\n",
        "            nn.ReLU(),\n",
        "            nn.Conv2d(64,192,5,padding=2),                                 # [4,64,5,5]->[4,192,5,5]\n",
        "            nn.ReLU(),\n",
        "            #--------------추가된레이어\n",
        "            nn.Conv2d(192,256,5,padding=2),                                # [4,192,5,5]->[4,256,5,5]\n",
        "            nn.ReLU(),\n",
        "            nn.Conv2d(256,192,1),                                          #[4,256,5,5]->[4,192,5,5]\n",
        "            nn.ReLU(),\n",
        "            #---------------------\n",
        "            nn.Flatten(),\n",
        "            nn.Linear(192 * 5 * 5, 120),\n",
        "            nn.ReLU(),\n",
        "            nn.Linear(120, 84),\n",
        "            nn.ReLU(),\n",
        "            nn.Linear(84, 10)\n",
        "        )\n",
        "\n",
        "    def forward(self, x):\n",
        "      out = self.layer(x)\n",
        "      return out\n",
        "\n",
        "\n",
        "net = Net()\n",
        "\n",
        "# 손실함수와 옵티마이저 정하기\n",
        "criterion = nn.CrossEntropyLoss()\n",
        "optimizer = optim.SGD(net.parameters(), lr=0.001, momentum=0.9)"
      ],
      "metadata": {
        "id": "kwGAa208PGq5"
      },
      "execution_count": null,
      "outputs": []
    },
    {
      "cell_type": "code",
      "source": [
        "#신경망 학습하기\n",
        "for epoch in range(2):  \n",
        "    running_loss = 0.0\n",
        "    for i, data in enumerate(trainloader, 0):\n",
        "        inputs, labels = data\n",
        "\n",
        "        optimizer.zero_grad()\n",
        "        outputs = net(inputs)\n",
        "        loss = criterion(outputs, labels)\n",
        "        loss.backward()\n",
        "        optimizer.step()\n",
        "\n",
        "        running_loss += loss.item()\n",
        "        if i % 2000 == 1999:    # print every 2000 mini-batches\n",
        "            print(f'[{epoch + 1}, {i + 1:5d}] loss: {running_loss / 2000:.3f}')\n",
        "            running_loss = 0.0"
      ],
      "metadata": {
        "colab": {
          "base_uri": "https://localhost:8080/"
        },
        "id": "tZDZ3kITPHSR",
        "outputId": "c05c94fb-c0c4-437c-ff60-938706220ef4"
      },
      "execution_count": null,
      "outputs": [
        {
          "output_type": "stream",
          "name": "stdout",
          "text": [
            "[1,  2000] loss: 2.304\n",
            "[1,  4000] loss: 2.303\n",
            "[1,  6000] loss: 2.254\n",
            "[1,  8000] loss: 2.019\n",
            "[1, 10000] loss: 1.920\n",
            "[1, 12000] loss: 1.871\n",
            "[2,  2000] loss: 1.776\n",
            "[2,  4000] loss: 1.661\n",
            "[2,  6000] loss: 1.588\n",
            "[2,  8000] loss: 1.550\n",
            "[2, 10000] loss: 1.501\n",
            "[2, 12000] loss: 1.453\n"
          ]
        }
      ]
    },
    {
      "cell_type": "code",
      "source": [
        "#신경망 학습하기\n",
        "for data in testloader:\n",
        "        images, labels = data\n",
        "outputs = net(images)\n",
        "\n",
        "correct = 0\n",
        "total = 0\n",
        "with torch.no_grad():\n",
        "    for data in testloader:\n",
        "        images, labels = data\n",
        "        outputs = net(images)\n",
        "        _, predicted = torch.max(outputs.data, 1)\n",
        "        total += labels.size(0)\n",
        "        correct += (predicted == labels).sum().item()\n",
        "\n",
        "print(f'Accuracy of the network on the 10000 test images: {100 * correct // total} %')"
      ],
      "metadata": {
        "colab": {
          "base_uri": "https://localhost:8080/"
        },
        "id": "ZEOMCTgiPHXI",
        "outputId": "011b643e-8c7d-455f-8db7-9c0fc4bf9f4b"
      },
      "execution_count": null,
      "outputs": [
        {
          "output_type": "stream",
          "name": "stdout",
          "text": [
            "Accuracy of the network on the 10000 test images: 50 %\n"
          ]
        }
      ]
    },
    {
      "cell_type": "markdown",
      "source": [
        "**최종 성능 : 63%로 시도 2에서 가장 높은 성능을 기록했다**"
      ],
      "metadata": {
        "id": "T1grsbGebR9H"
      }
    },
    {
      "cell_type": "markdown",
      "source": [
        "# **문제 2번**"
      ],
      "metadata": {
        "id": "jTFSDEbQ7cj6"
      }
    },
    {
      "cell_type": "code",
      "source": [
        "# loading training data\n",
        "from torchvision import datasets\n",
        "import torchvision.transforms as transforms\n",
        "import os\n",
        "\n",
        "path2data = '/data'\n",
        "\n",
        "# if not exists the path, make the path\n",
        "if not os.path.exists(path2data):\n",
        "    os.mkdir(path2data)\n",
        "\n",
        "data_transformer = transforms.Compose([transforms.ToTensor()])\n",
        "train_ds = datasets.STL10(path2data, split='train', download='True', transform=data_transformer)\n",
        "\n",
        "print(train_ds.data.shape)"
      ],
      "metadata": {
        "id": "PQlJfc_N7ela",
        "colab": {
          "base_uri": "https://localhost:8080/",
          "height": 104,
          "referenced_widgets": [
            "f812d8591f34448c8e7d3bfaae6ced55",
            "37a2bbc8d4774082a167b65e93c0996f",
            "605564b73152452fa60ec7370fd8954b",
            "cb038578a2e14bb4bdc49b0430ff8580",
            "3363c7ce66ae43fd90197605444ce903",
            "540f28eb743e437c92dd548d918d3ae8",
            "fa658f4066824c30a6f5f7ee5dfcd003",
            "bfff6bb068144bc1b659cb9dd979533a",
            "73d1f4df38ce430ab0e6ecb171f06870",
            "44002ec116b6424c9a8e5f2efae90bb1",
            "441c161b800249a0a4049a80cd2e2f8d"
          ]
        },
        "outputId": "93ac63b8-445c-4bc4-8b1a-e41306719474"
      },
      "execution_count": null,
      "outputs": [
        {
          "output_type": "stream",
          "name": "stdout",
          "text": [
            "Downloading http://ai.stanford.edu/~acoates/stl10/stl10_binary.tar.gz to /data/stl10_binary.tar.gz\n"
          ]
        },
        {
          "output_type": "display_data",
          "data": {
            "text/plain": [
              "  0%|          | 0/2640397119 [00:00<?, ?it/s]"
            ],
            "application/vnd.jupyter.widget-view+json": {
              "version_major": 2,
              "version_minor": 0,
              "model_id": "f812d8591f34448c8e7d3bfaae6ced55"
            }
          },
          "metadata": {}
        },
        {
          "output_type": "stream",
          "name": "stdout",
          "text": [
            "Extracting /data/stl10_binary.tar.gz to /data\n",
            "(5000, 3, 96, 96)\n"
          ]
        }
      ]
    },
    {
      "cell_type": "code",
      "source": [
        "# load test dataset and call it test0_ds\n",
        "test0_ds = datasets.STL10(path2data, split='test', download=True, transform=data_transformer)\n",
        "print(test0_ds.data.shape)"
      ],
      "metadata": {
        "colab": {
          "base_uri": "https://localhost:8080/"
        },
        "id": "R28sYNNAduFQ",
        "outputId": "33f553a8-544c-4480-acab-c71cbabcf8f2"
      },
      "execution_count": null,
      "outputs": [
        {
          "output_type": "stream",
          "name": "stdout",
          "text": [
            "Files already downloaded and verified\n",
            "(8000, 3, 96, 96)\n"
          ]
        }
      ]
    },
    {
      "cell_type": "code",
      "source": [
        "batch_size = 4\n",
        "trainloader = torch.utils.data.DataLoader(train_ds, batch_size=batch_size, shuffle=True, num_workers=2)\n",
        "testloader = torch.utils.data.DataLoader(test0_ds, batch_size=batch_size, shuffle=True, num_workers=2)"
      ],
      "metadata": {
        "id": "I0fF6A9Vo8Wu"
      },
      "execution_count": null,
      "outputs": []
    },
    {
      "cell_type": "markdown",
      "source": [
        " **이번에는 층을 늘리는 것이 아닌 처음 conv2d에서 내보내는 채널의 개수를 시도1에서는 16으로 시도 2에서는 32로 시도 3에서는 64로 늘릴 것이다 (이때 당연히 처음 conv2d의 아웃풋 채널수가 늘어나면 다음에 받는 conv2d의 채널수도 늘려준다 이미지와 내적하는 필터의 개수가 많아지는 것 이기때문에 아마도 개수가 늘어나면 더 좋은 성능을 낼 것이라고 예측한다**"
      ],
      "metadata": {
        "id": "aO1NMLRIlHfq"
      }
    },
    {
      "cell_type": "code",
      "source": [
        "# set parameters\n",
        "learning_rate = 0.0002\n",
        "num_epoch = 10\n",
        "\n",
        "\n",
        "# CNN 모델학습\n",
        "import torch.nn as nn\n",
        "import torch.nn.functional as F\n",
        "\n",
        "class STLNet(nn.Module):\n",
        "    def __init__(self):\n",
        "        super().__init__()\n",
        "        self.layer = nn.Sequential(\n",
        "             nn.Conv2d(3, 16, 5),                   #[4,3,96,96] -> [4,16,92,92]\n",
        "             nn.ReLU(),\n",
        "             nn.MaxPool2d(2, 2),                    #[4,16,92,92] -> [4,16,46,46]\n",
        "             nn.Conv2d(16, 32, 5),                   #[4,16,46,46] -> [4,32,42,42]\n",
        "             nn.ReLU(),\n",
        "             nn.MaxPool2d(2, 2),                    #[4,32,42,42] -> [4,32,21,21]\n",
        "             nn.ReLU(),\n",
        "             nn.Flatten(), \n",
        "             nn.Linear(32 * 21 * 21, 120),     \n",
        "             nn.ReLU(),       \n",
        "             nn.Linear(120, 84),   \n",
        "             nn.ReLU(),                 \n",
        "             nn.Linear(84, 10),            \n",
        "        )\n",
        "\n",
        "    def forward(self, x):\n",
        "      out = self.layer(x)\n",
        "      return out\n",
        "\n",
        "\n",
        "net = STLNet()\n",
        "\n",
        "# 손실함수와 옵티마이저 정하기\n",
        "criterion = nn.CrossEntropyLoss()\n",
        "optimizer = optim.SGD(net.parameters(), lr=0.001, momentum=0.9)"
      ],
      "metadata": {
        "id": "ahunfgeQlNS0"
      },
      "execution_count": null,
      "outputs": []
    },
    {
      "cell_type": "code",
      "source": [
        "#신경망 학습하기\n",
        "for epoch in range(2):  \n",
        "    running_loss = 0.0\n",
        "    for i, data in enumerate(trainloader, 0):\n",
        "        inputs, labels = data\n",
        "\n",
        "        optimizer.zero_grad()\n",
        "        outputs = net(inputs)\n",
        "        loss = criterion(outputs, labels)\n",
        "        loss.backward()\n",
        "        optimizer.step()\n",
        "\n",
        "        running_loss += loss.item()\n",
        "        if i % 2000 == 1999:    # print every 2000 mini-batches\n",
        "            print(f'[{epoch + 1}, {i + 1:5d}] loss: {running_loss / 2000:.3f}')\n",
        "            running_loss = 0.0"
      ],
      "metadata": {
        "id": "pGxRIuzfo0ZR"
      },
      "execution_count": null,
      "outputs": []
    },
    {
      "cell_type": "code",
      "source": [
        "#정확도 예측\n",
        "for data in testloader:\n",
        "        images, labels = data\n",
        "outputs = net(images)\n",
        "\n",
        "correct = 0\n",
        "total = 0\n",
        "with torch.no_grad():\n",
        "    for data in testloader:\n",
        "        images, labels = data\n",
        "        outputs = net(images)\n",
        "        _, predicted = torch.max(outputs.data, 1)\n",
        "        total += labels.size(0)\n",
        "        correct += (predicted == labels).sum().item()\n",
        "\n",
        "print(f'Accuracy of the network on the 10000 test images: {100 * correct // total} %')"
      ],
      "metadata": {
        "colab": {
          "base_uri": "https://localhost:8080/"
        },
        "id": "x7IN2aAmpsc6",
        "outputId": "5fb61535-1c14-43ff-d97f-edd2f951810e"
      },
      "execution_count": null,
      "outputs": [
        {
          "output_type": "stream",
          "name": "stdout",
          "text": [
            "Accuracy of the network on the 10000 test images: 29 %\n"
          ]
        }
      ]
    },
    {
      "cell_type": "markdown",
      "source": [
        "## **시도2 첫번째 conv의 out_channels을 16-> 32로 늘리고 두번째 conv2d의 out _chaneels를 32->64로 늘린다**"
      ],
      "metadata": {
        "id": "m8QOFW9oHHo-"
      }
    },
    {
      "cell_type": "code",
      "source": [
        "# set parameters\n",
        "learning_rate = 0.0002\n",
        "num_epoch = 10\n",
        "\n",
        "\n",
        "# CNN 모델학습\n",
        "import torch.nn as nn\n",
        "import torch.nn.functional as F\n",
        "\n",
        "class STLNet(nn.Module):\n",
        "    def __init__(self):\n",
        "        super().__init__()\n",
        "        self.layer = nn.Sequential(\n",
        "             nn.Conv2d(3, 32, 5),                   #[4,3,96,96] -> [4,32,92,92]\n",
        "             nn.ReLU(),\n",
        "             nn.MaxPool2d(2, 2),                    #[4,32,92,92] -> [4,32,46,46]\n",
        "             nn.Conv2d(32, 64, 5),                   #[4,32,46,46] -> [4,64,42,42]\n",
        "             nn.ReLU(),\n",
        "             nn.MaxPool2d(2, 2),                    #[4,64,42,42] -> [4,64,21,21]\n",
        "             nn.ReLU(),\n",
        "             nn.Flatten(), \n",
        "             nn.Linear(64 * 21 * 21, 120),     \n",
        "             nn.ReLU(),       \n",
        "             nn.Linear(120, 84),   \n",
        "             nn.ReLU(),                 \n",
        "             nn.Linear(84, 10),            \n",
        "        )\n",
        "\n",
        "    def forward(self, x):\n",
        "      out = self.layer(x)\n",
        "      return out\n",
        "\n",
        "\n",
        "net = STLNet()\n",
        "\n",
        "# 손실함수와 옵티마이저 정하기\n",
        "criterion = nn.CrossEntropyLoss()\n",
        "optimizer = optim.SGD(net.parameters(), lr=0.001, momentum=0.9)"
      ],
      "metadata": {
        "id": "W66MmD_VwPCv"
      },
      "execution_count": null,
      "outputs": []
    },
    {
      "cell_type": "code",
      "source": [
        "#신경망 학습하기\n",
        "batch_size = 4\n",
        "trainloader = torch.utils.data.DataLoader(train_ds, batch_size=batch_size, shuffle=True, num_workers=2)\n",
        "testloader = torch.utils.data.DataLoader(test0_ds, batch_size=batch_size, shuffle=True, num_workers=2)\n",
        "\n",
        "for epoch in range(2):  \n",
        "    running_loss = 0.0\n",
        "    for i, data in enumerate(trainloader, 0):\n",
        "        inputs, labels = data\n",
        "\n",
        "        optimizer.zero_grad()\n",
        "        outputs = net(inputs)\n",
        "        loss = criterion(outputs, labels)\n",
        "        loss.backward()\n",
        "        optimizer.step()\n",
        "\n",
        "        running_loss += loss.item()\n",
        "        if i % 2000 == 1999:    # print every 2000 mini-batches\n",
        "            print(f'[{epoch + 1}, {i + 1:5d}] loss: {running_loss / 2000:.3f}')\n",
        "            running_loss = 0.0"
      ],
      "metadata": {
        "id": "CThHDc-rHMeJ"
      },
      "execution_count": null,
      "outputs": []
    },
    {
      "cell_type": "code",
      "source": [
        "#신경망 학습하기\n",
        "for data in testloader:\n",
        "        images, labels = data\n",
        "outputs = net(images)\n",
        "\n",
        "correct = 0\n",
        "total = 0\n",
        "with torch.no_grad():\n",
        "    for data in testloader:\n",
        "        images, labels = data\n",
        "        outputs = net(images)\n",
        "        _, predicted = torch.max(outputs.data, 1)\n",
        "        total += labels.size(0)\n",
        "        correct += (predicted == labels).sum().item()\n",
        "\n",
        "print(f'Accuracy of the network on the 10000 test images: {100 * correct // total} %')"
      ],
      "metadata": {
        "colab": {
          "base_uri": "https://localhost:8080/"
        },
        "id": "fY-sBZ60wkWo",
        "outputId": "5fe35a2f-2d36-4a2e-bc91-3af654765961"
      },
      "execution_count": null,
      "outputs": [
        {
          "output_type": "stream",
          "name": "stdout",
          "text": [
            "Accuracy of the network on the 10000 test images: 32 %\n"
          ]
        }
      ]
    },
    {
      "cell_type": "markdown",
      "source": [
        "## **시도 3 첫번째 conv2d의 out_channels를 32->64로 늘리고 두번째 conv2d의 out_channels를 64->128로 늘린다**"
      ],
      "metadata": {
        "id": "XQwv_cOTHR84"
      }
    },
    {
      "cell_type": "code",
      "source": [
        "# set parameters\n",
        "learning_rate = 0.0002\n",
        "num_epoch = 10\n",
        "\n",
        "\n",
        "# CNN 모델학습\n",
        "import torch.nn as nn\n",
        "import torch.nn.functional as F\n",
        "\n",
        "class STLNet(nn.Module):\n",
        "    def __init__(self):\n",
        "        super().__init__()\n",
        "        self.layer = nn.Sequential(\n",
        "             nn.Conv2d(3, 64, 5),                   #[4,3,96,96] -> [4,32,92,92]\n",
        "             nn.ReLU(),\n",
        "             nn.MaxPool2d(2, 2),                    #[4,32,92,92] -> [4,32,46,46]\n",
        "             nn.Conv2d(64, 128, 5),                  #[4,32,46,46] -> [4,64,42,42]\n",
        "             nn.ReLU(),\n",
        "             nn.MaxPool2d(2, 2),                    #[4,64,42,42] -> [4,64,21,21]\n",
        "             nn.ReLU(),\n",
        "             nn.Flatten(), \n",
        "             nn.Linear(128 * 21 * 21, 120),     \n",
        "             nn.ReLU(),       \n",
        "             nn.Linear(120, 84),   \n",
        "             nn.ReLU(),                 \n",
        "             nn.Linear(84, 10),            \n",
        "        )\n",
        "\n",
        "    def forward(self, x):\n",
        "      out = self.layer(x)\n",
        "      return out\n",
        "\n",
        "\n",
        "net = STLNet()\n",
        "\n",
        "# 손실함수와 옵티마이저 정하기\n",
        "criterion = nn.CrossEntropyLoss()\n",
        "optimizer = optim.SGD(net.parameters(), lr=0.001, momentum=0.9)"
      ],
      "metadata": {
        "id": "5RSSef18HT5p"
      },
      "execution_count": null,
      "outputs": []
    },
    {
      "cell_type": "code",
      "source": [
        "#신경망 학습하기\n",
        "batch_size = 4\n",
        "trainloader = torch.utils.data.DataLoader(train_ds, batch_size=batch_size, shuffle=True, num_workers=2)\n",
        "testloader = torch.utils.data.DataLoader(test0_ds, batch_size=batch_size, shuffle=True, num_workers=2)\n",
        "\n",
        "for epoch in range(2):  \n",
        "    running_loss = 0.0\n",
        "    for i, data in enumerate(trainloader, 0):\n",
        "        inputs, labels = data\n",
        "\n",
        "        optimizer.zero_grad()\n",
        "        outputs = net(inputs)\n",
        "        loss = criterion(outputs, labels)\n",
        "        loss.backward()\n",
        "        optimizer.step()\n",
        "\n",
        "        running_loss += loss.item()\n",
        "        if i % 2000 == 1999:    # print every 2000 mini-batches\n",
        "            print(f'[{epoch + 1}, {i + 1:5d}] loss: {running_loss / 2000:.3f}')\n",
        "            running_loss = 0.0"
      ],
      "metadata": {
        "id": "tqmQMoi6J9Cx"
      },
      "execution_count": null,
      "outputs": []
    },
    {
      "cell_type": "code",
      "source": [
        "#신경망 학습하기\n",
        "for data in testloader:\n",
        "        images, labels = data\n",
        "outputs = net(images)\n",
        "\n",
        "correct = 0\n",
        "total = 0\n",
        "with torch.no_grad():\n",
        "    for data in testloader:\n",
        "        images, labels = data\n",
        "        outputs = net(images)\n",
        "        _, predicted = torch.max(outputs.data, 1)\n",
        "        total += labels.size(0)\n",
        "        correct += (predicted == labels).sum().item()\n",
        "\n",
        "print(f'Accuracy of the network on the 10000 test images: {100 * correct // total} %')"
      ],
      "metadata": {
        "colab": {
          "base_uri": "https://localhost:8080/"
        },
        "id": "T-FJNDDKJ9J7",
        "outputId": "6f5445d2-3500-406a-d825-6ecd05f289c1"
      },
      "execution_count": null,
      "outputs": [
        {
          "output_type": "stream",
          "name": "stdout",
          "text": [
            "Accuracy of the network on the 10000 test images: 34 %\n"
          ]
        }
      ]
    },
    {
      "cell_type": "markdown",
      "source": [
        "**최종 성능: 34%  시도3에서 가장 높은 성능을 기록하였다**"
      ],
      "metadata": {
        "id": "_a2-Js5VNGzf"
      }
    }
  ]
}